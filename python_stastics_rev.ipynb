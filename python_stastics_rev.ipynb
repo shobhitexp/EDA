{
  "cells": [
    {
      "cell_type": "code",
      "execution_count": null,
      "id": "bd271729",
      "metadata": {
        "id": "bd271729"
      },
      "outputs": [],
      "source": [
        "import numpy as np\n",
        "from statistics import mode"
      ]
    },
    {
      "cell_type": "code",
      "execution_count": null,
      "id": "299dc7cd",
      "metadata": {
        "id": "299dc7cd"
      },
      "outputs": [],
      "source": [
        "population=np.random.randint(10,20,50)"
      ]
    },
    {
      "cell_type": "code",
      "execution_count": null,
      "id": "a35ddc40",
      "metadata": {
        "colab": {
          "base_uri": "https://localhost:8080/"
        },
        "id": "a35ddc40",
        "outputId": "efcc9663-85cf-46a9-dabf-4038fa2f4b8e"
      },
      "outputs": [
        {
          "output_type": "execute_result",
          "data": {
            "text/plain": [
              "array([13, 15, 18, 15, 16, 10, 10, 11, 15, 10, 16, 16, 14, 10, 17, 19, 13,\n",
              "       17, 18, 10, 19, 10, 10, 14, 11, 16, 12, 19, 13, 16, 13, 15, 12, 13,\n",
              "       10, 19, 19, 10, 11, 10, 19, 16, 10, 19, 13, 14, 12, 15, 12, 16])"
            ]
          },
          "metadata": {},
          "execution_count": 3
        }
      ],
      "source": [
        "population"
      ]
    },
    {
      "cell_type": "code",
      "execution_count": null,
      "id": "e15c32fc",
      "metadata": {
        "colab": {
          "base_uri": "https://localhost:8080/"
        },
        "id": "e15c32fc",
        "outputId": "1e70bbfc-a238-483f-b406-0377bab5bf23"
      },
      "outputs": [
        {
          "output_type": "execute_result",
          "data": {
            "text/plain": [
              "14.02"
            ]
          },
          "metadata": {},
          "execution_count": 4
        }
      ],
      "source": [
        "np.mean(population)"
      ]
    },
    {
      "cell_type": "code",
      "execution_count": null,
      "id": "0a17f398",
      "metadata": {
        "colab": {
          "base_uri": "https://localhost:8080/"
        },
        "id": "0a17f398",
        "outputId": "71f5fa3d-cb6d-40f7-fd46-cae5d6583309"
      },
      "outputs": [
        {
          "output_type": "execute_result",
          "data": {
            "text/plain": [
              "14.0"
            ]
          },
          "metadata": {},
          "execution_count": 5
        }
      ],
      "source": [
        "np.median(population)"
      ]
    },
    {
      "cell_type": "code",
      "execution_count": null,
      "id": "6d145dfe",
      "metadata": {
        "colab": {
          "base_uri": "https://localhost:8080/"
        },
        "id": "6d145dfe",
        "outputId": "175f9337-30c5-4b03-a058-c05f7f220945"
      },
      "outputs": [
        {
          "output_type": "execute_result",
          "data": {
            "text/plain": [
              "10"
            ]
          },
          "metadata": {},
          "execution_count": 6
        }
      ],
      "source": [
        "mode(population)"
      ]
    },
    {
      "cell_type": "code",
      "execution_count": null,
      "id": "3a823b4c",
      "metadata": {
        "colab": {
          "base_uri": "https://localhost:8080/"
        },
        "id": "3a823b4c",
        "outputId": "39e22875-532a-450d-dd7f-bc5ab45d5666"
      },
      "outputs": [
        {
          "output_type": "stream",
          "name": "stdout",
          "text": [
            "mean of the population 14.02\n",
            "median of the population 14.0\n",
            "mode of the population 10\n"
          ]
        }
      ],
      "source": [
        "print(f\"mean of the population {np.mean(population)}\")\n",
        "print(f\"median of the population {np.median(population)}\")\n",
        "print(f\"mode of the population {mode(population)}\")"
      ]
    },
    {
      "cell_type": "code",
      "execution_count": null,
      "id": "d9dfbd42",
      "metadata": {
        "id": "d9dfbd42"
      },
      "outputs": [],
      "source": [
        "sample=np.random.choice(population,20)"
      ]
    },
    {
      "cell_type": "code",
      "execution_count": null,
      "id": "3dd40080",
      "metadata": {
        "colab": {
          "base_uri": "https://localhost:8080/"
        },
        "id": "3dd40080",
        "outputId": "ceca1f84-bee5-4143-8600-03bc4b2ec947"
      },
      "outputs": [
        {
          "output_type": "stream",
          "name": "stdout",
          "text": [
            "mean of the sample 14.9\n",
            "median of the sample 15.5\n",
            "mode of the sample 19\n"
          ]
        }
      ],
      "source": [
        "print(f\"mean of the sample {np.mean(sample)}\")\n",
        "print(f\"median of the sample {np.median(sample)}\")\n",
        "print(f\"mode of the sample {mode(sample)}\")"
      ]
    },
    {
      "cell_type": "code",
      "execution_count": null,
      "id": "330813f6",
      "metadata": {
        "id": "330813f6"
      },
      "outputs": [],
      "source": [
        "sample1=np.random.choice(population,20)\n",
        "sample2=np.random.choice(population,20)\n",
        "sample3=np.random.choice(population,20)\n",
        "sample4=np.random.choice(population,20)"
      ]
    },
    {
      "cell_type": "code",
      "execution_count": null,
      "id": "878c579a",
      "metadata": {
        "colab": {
          "base_uri": "https://localhost:8080/"
        },
        "id": "878c579a",
        "outputId": "535d758f-1768-435f-8d69-f62d6d30c513"
      },
      "outputs": [
        {
          "output_type": "stream",
          "name": "stdout",
          "text": [
            "[11 10 15 14 13 19 12 13 19 16 10 13 15 13 13 19 12 10 15 10]\n",
            "============================================================\n",
            "[13 10 16 12 10 10 16 13 18 13 19 17 17 16 18 15 12 10 12 18]\n",
            "============================================================\n",
            "[16 10 10 15 16 16 10 14 10 10 10 11 18 16 19 13 14 11 18 10]\n",
            "============================================================\n",
            "[13 19 14 16 15 11 10 14 13 13 19 10 11 16 13 16 12 13 11 15]\n"
          ]
        }
      ],
      "source": [
        "print(sample1)\n",
        "print(60*\"=\")\n",
        "print(sample2)\n",
        "print(60*\"=\")\n",
        "print(sample3)\n",
        "print(60*\"=\")\n",
        "print(sample4)"
      ]
    },
    {
      "cell_type": "code",
      "execution_count": null,
      "id": "710a558b",
      "metadata": {
        "id": "710a558b"
      },
      "outputs": [],
      "source": [
        "mean_of_samples=[]\n",
        "\n",
        "all_sample=[sample1,sample2,sample3,sample4]\n",
        "\n",
        "for sample in all_sample:\n",
        "    mean_of_samples.append(np.mean(sample))\n"
      ]
    },
    {
      "cell_type": "code",
      "execution_count": null,
      "id": "2aba12bf",
      "metadata": {
        "colab": {
          "base_uri": "https://localhost:8080/"
        },
        "id": "2aba12bf",
        "outputId": "ece6853b-f052-4826-cdaa-715aac17c268"
      },
      "outputs": [
        {
          "output_type": "execute_result",
          "data": {
            "text/plain": [
              "[13.6, 14.25, 13.35, 13.7]"
            ]
          },
          "metadata": {},
          "execution_count": 13
        }
      ],
      "source": [
        "mean_of_samples"
      ]
    },
    {
      "cell_type": "markdown",
      "id": "a31bca8a",
      "metadata": {
        "id": "a31bca8a"
      },
      "source": [
        "# central limit theoram"
      ]
    },
    {
      "cell_type": "code",
      "execution_count": null,
      "id": "a8eb53ae",
      "metadata": {
        "id": "a8eb53ae"
      },
      "outputs": [],
      "source": [
        "population=np.random.binomial(10,0.5,10000)"
      ]
    },
    {
      "cell_type": "code",
      "execution_count": null,
      "id": "709657f5",
      "metadata": {
        "colab": {
          "base_uri": "https://localhost:8080/"
        },
        "id": "709657f5",
        "outputId": "4dd21827-26d0-4f55-933c-1852e3df13c9"
      },
      "outputs": [
        {
          "output_type": "stream",
          "name": "stdout",
          "text": [
            "[5 1 4 ... 6 3 4]\n"
          ]
        }
      ],
      "source": [
        "print(population)"
      ]
    },
    {
      "cell_type": "code",
      "execution_count": null,
      "id": "43a7126e",
      "metadata": {
        "colab": {
          "base_uri": "https://localhost:8080/"
        },
        "id": "43a7126e",
        "outputId": "ff0cd73e-b095-4589-eae3-ea8da85bd1a2"
      },
      "outputs": [
        {
          "output_type": "execute_result",
          "data": {
            "text/plain": [
              "10000"
            ]
          },
          "metadata": {},
          "execution_count": 16
        }
      ],
      "source": [
        "len(population)"
      ]
    },
    {
      "cell_type": "code",
      "execution_count": null,
      "id": "2cefa72e",
      "metadata": {
        "colab": {
          "base_uri": "https://localhost:8080/",
          "height": 644
        },
        "id": "2cefa72e",
        "outputId": "e1a20d65-3e8a-4359-ae80-92d2caefcd4a"
      },
      "outputs": [
        {
          "output_type": "stream",
          "name": "stderr",
          "text": [
            "<ipython-input-17-b5f603439989>:2: UserWarning: \n",
            "\n",
            "`distplot` is a deprecated function and will be removed in seaborn v0.14.0.\n",
            "\n",
            "Please adapt your code to use either `displot` (a figure-level function with\n",
            "similar flexibility) or `histplot` (an axes-level function for histograms).\n",
            "\n",
            "For a guide to updating your code to use the new functions, please see\n",
            "https://gist.github.com/mwaskom/de44147ed2974457ad6372750bbe5751\n",
            "\n",
            "  sns.distplot(population)\n"
          ]
        },
        {
          "output_type": "execute_result",
          "data": {
            "text/plain": [
              "<Axes: ylabel='Density'>"
            ]
          },
          "metadata": {},
          "execution_count": 17
        },
        {
          "output_type": "display_data",
          "data": {
            "text/plain": [
              "<Figure size 640x480 with 1 Axes>"
            ],
            "image/png": "[encoded data removed]"
          },
          "metadata": {}
        }
      ],
      "source": [
        "import seaborn as sns\n",
        "sns.distplot(population)"
      ]
    },
    {
      "cell_type": "code",
      "execution_count": null,
      "id": "5e85f889",
      "metadata": {
        "colab": {
          "base_uri": "https://localhost:8080/"
        },
        "id": "5e85f889",
        "outputId": "0e8f81e5-3814-4751-9220-8fea7a15b00a"
      },
      "outputs": [
        {
          "output_type": "execute_result",
          "data": {
            "text/plain": [
              "10000"
            ]
          },
          "metadata": {},
          "execution_count": 18
        }
      ],
      "source": [
        "len(population)"
      ]
    },
    {
      "cell_type": "code",
      "execution_count": null,
      "id": "a49d809d",
      "metadata": {
        "colab": {
          "base_uri": "https://localhost:8080/"
        },
        "id": "a49d809d",
        "outputId": "81265d5c-b412-4ecf-b89a-0d1ddbd469aa"
      },
      "outputs": [
        {
          "output_type": "execute_result",
          "data": {
            "text/plain": [
              "3000"
            ]
          },
          "metadata": {},
          "execution_count": 19
        }
      ],
      "source": [
        "int(len(population)*0.30)"
      ]
    },
    {
      "cell_type": "code",
      "execution_count": null,
      "id": "f2ba670f",
      "metadata": {
        "id": "f2ba670f"
      },
      "outputs": [],
      "source": [
        "size=int(len(population)*0.30)"
      ]
    },
    {
      "cell_type": "code",
      "execution_count": null,
      "id": "f8e36daa",
      "metadata": {
        "id": "f8e36daa"
      },
      "outputs": [],
      "source": [
        "sample_mean=[]\n",
        "for i in range(1,31):\n",
        "    sample=np.random.choice(population,size=size)\n",
        "    sample_mean.append(np.mean(sample))"
      ]
    },
    {
      "cell_type": "code",
      "execution_count": null,
      "id": "8225da53",
      "metadata": {
        "colab": {
          "base_uri": "https://localhost:8080/"
        },
        "id": "8225da53",
        "outputId": "6736aa31-f0c1-4c06-f4e2-eb4126e909a9"
      },
      "outputs": [
        {
          "output_type": "execute_result",
          "data": {
            "text/plain": [
              "[5.062333333333333,\n",
              " 5.009666666666667,\n",
              " 5.059,\n",
              " 5.004333333333333,\n",
              " 5.021,\n",
              " 5.008333333333334,\n",
              " 5.030666666666667,\n",
              " 5.03,\n",
              " 5.0343333333333335,\n",
              " 5.047,\n",
              " 4.9703333333333335,\n",
              " 5.055,\n",
              " 5.071666666666666,\n",
              " 5.028,\n",
              " 5.096666666666667,\n",
              " 5.041666666666667,\n",
              " 5.036666666666667,\n",
              " 5.000333333333334,\n",
              " 5.058666666666666,\n",
              " 5.014666666666667,\n",
              " 5.031666666666666,\n",
              " 4.9976666666666665,\n",
              " 5.0343333333333335,\n",
              " 5.019666666666667,\n",
              " 5.071,\n",
              " 5.035,\n",
              " 5.044666666666667,\n",
              " 5.036,\n",
              " 5.081333333333333,\n",
              " 5.035333333333333]"
            ]
          },
          "metadata": {},
          "execution_count": 22
        }
      ],
      "source": [
        "sample_mean"
      ]
    },
    {
      "cell_type": "code",
      "execution_count": null,
      "id": "9f3e0d55",
      "metadata": {
        "colab": {
          "base_uri": "https://localhost:8080/",
          "height": 644
        },
        "id": "9f3e0d55",
        "outputId": "1bfde656-ab27-4030-a6ca-d76c59c26413"
      },
      "outputs": [
        {
          "output_type": "stream",
          "name": "stderr",
          "text": [
            "<ipython-input-23-d196905dea46>:1: UserWarning: \n",
            "\n",
            "`distplot` is a deprecated function and will be removed in seaborn v0.14.0.\n",
            "\n",
            "Please adapt your code to use either `displot` (a figure-level function with\n",
            "similar flexibility) or `histplot` (an axes-level function for histograms).\n",
            "\n",
            "For a guide to updating your code to use the new functions, please see\n",
            "https://gist.github.com/mwaskom/de44147ed2974457ad6372750bbe5751\n",
            "\n",
            "  sns.distplot(sample_mean)\n"
          ]
        },
        {
          "output_type": "execute_result",
          "data": {
            "text/plain": [
              "<Axes: ylabel='Density'>"
            ]
          },
          "metadata": {},
          "execution_count": 23
        },
        {
          "output_type": "display_data",
          "data": {
            "text/plain": [
              "<Figure size 640x480 with 1 Axes>"
            ],
            "image/png": "[encoded data removed]"
          },
          "metadata": {}
        }
      ],
      "source": [
        "sns.distplot(sample_mean)"
      ]
    },
    {
      "cell_type": "code",
      "execution_count": null,
      "id": "326bac10",
      "metadata": {
        "id": "326bac10"
      },
      "outputs": [],
      "source": [
        "sample_mean=[]\n",
        "for i in range(1,100):\n",
        "    sample=np.random.choice(population,size=size)\n",
        "    sample_mean.append(np.mean(sample))"
      ]
    },
    {
      "cell_type": "code",
      "execution_count": null,
      "id": "97a5f452",
      "metadata": {
        "colab": {
          "base_uri": "https://localhost:8080/",
          "height": 644
        },
        "id": "97a5f452",
        "outputId": "c8353314-e808-42ac-9625-12b76793df6f"
      },
      "outputs": [
        {
          "output_type": "stream",
          "name": "stderr",
          "text": [
            "<ipython-input-25-d196905dea46>:1: UserWarning: \n",
            "\n",
            "`distplot` is a deprecated function and will be removed in seaborn v0.14.0.\n",
            "\n",
            "Please adapt your code to use either `displot` (a figure-level function with\n",
            "similar flexibility) or `histplot` (an axes-level function for histograms).\n",
            "\n",
            "For a guide to updating your code to use the new functions, please see\n",
            "https://gist.github.com/mwaskom/de44147ed2974457ad6372750bbe5751\n",
            "\n",
            "  sns.distplot(sample_mean)\n"
          ]
        },
        {
          "output_type": "execute_result",
          "data": {
            "text/plain": [
              "<Axes: ylabel='Density'>"
            ]
          },
          "metadata": {},
          "execution_count": 25
        },
        {
          "output_type": "display_data",
          "data": {
            "text/plain": [
              "<Figure size 640x480 with 1 Axes>"
            ],
            "image/png": "[encoded data removed]"
          },
          "metadata": {}
        }
      ],
      "source": [
        "sns.distplot(sample_mean)"
      ]
    },
    {
      "cell_type": "code",
      "execution_count": null,
      "id": "eb8583bb",
      "metadata": {
        "id": "eb8583bb"
      },
      "outputs": [],
      "source": [
        "sample_mean=[]\n",
        "for i in range(1,501):\n",
        "    sample=np.random.choice(population,size=size)\n",
        "    sample_mean.append(np.mean(sample))"
      ]
    },
    {
      "cell_type": "code",
      "execution_count": null,
      "id": "637015f7",
      "metadata": {
        "colab": {
          "base_uri": "https://localhost:8080/",
          "height": 644
        },
        "id": "637015f7",
        "outputId": "3f1d8af1-f0c6-4eb5-e465-ac7847452dd0"
      },
      "outputs": [
        {
          "output_type": "stream",
          "name": "stderr",
          "text": [
            "<ipython-input-27-e7b14f890e0e>:1: UserWarning: \n",
            "\n",
            "`distplot` is a deprecated function and will be removed in seaborn v0.14.0.\n",
            "\n",
            "Please adapt your code to use either `displot` (a figure-level function with\n",
            "similar flexibility) or `histplot` (an axes-level function for histograms).\n",
            "\n",
            "For a guide to updating your code to use the new functions, please see\n",
            "https://gist.github.com/mwaskom/de44147ed2974457ad6372750bbe5751\n",
            "\n",
            "  sns.distplot(sample_mean,kde=True,color=\"red\")\n"
          ]
        },
        {
          "output_type": "execute_result",
          "data": {
            "text/plain": [
              "<Axes: ylabel='Density'>"
            ]
          },
          "metadata": {},
          "execution_count": 27
        },
        {
          "output_type": "display_data",
          "data": {
            "text/plain": [
              "<Figure size 640x480 with 1 Axes>"
            ],
            "image/png": "[encoded data removed]"
          },
          "metadata": {}
        }
      ],
      "source": [
        "sns.distplot(sample_mean,kde=True,color=\"red\")"
      ]
    },
    {
      "cell_type": "code",
      "execution_count": null,
      "id": "50e9d2f5",
      "metadata": {
        "id": "50e9d2f5"
      },
      "outputs": [],
      "source": [
        "sample_mean=[]\n",
        "for i in range(1,1000):\n",
        "    sample=np.random.choice(population,size=size)\n",
        "    sample_mean.append(np.mean(sample))"
      ]
    },
    {
      "cell_type": "code",
      "execution_count": null,
      "id": "cbb52315",
      "metadata": {
        "colab": {
          "base_uri": "https://localhost:8080/",
          "height": 647
        },
        "id": "cbb52315",
        "outputId": "212bda52-5d18-4ffc-9e13-25e4a33568a1"
      },
      "outputs": [
        {
          "output_type": "stream",
          "name": "stderr",
          "text": [
            "<ipython-input-29-d196905dea46>:1: UserWarning: \n",
            "\n",
            "`distplot` is a deprecated function and will be removed in seaborn v0.14.0.\n",
            "\n",
            "Please adapt your code to use either `displot` (a figure-level function with\n",
            "similar flexibility) or `histplot` (an axes-level function for histograms).\n",
            "\n",
            "For a guide to updating your code to use the new functions, please see\n",
            "https://gist.github.com/mwaskom/de44147ed2974457ad6372750bbe5751\n",
            "\n",
            "  sns.distplot(sample_mean)\n"
          ]
        },
        {
          "output_type": "execute_result",
          "data": {
            "text/plain": [
              "<Axes: ylabel='Density'>"
            ]
          },
          "metadata": {},
          "execution_count": 29
        },
        {
          "output_type": "display_data",
          "data": {
            "text/plain": [
              "<Figure size 640x480 with 1 Axes>"
            ],
            "image/png": "[encoded data removed]"
          },
          "metadata": {}
        }
      ],
      "source": [
        "sns.distplot(sample_mean)"
      ]
    },
    {
      "cell_type": "code",
      "execution_count": null,
      "id": "e141c217",
      "metadata": {
        "colab": {
          "base_uri": "https://localhost:8080/"
        },
        "id": "e141c217",
        "outputId": "089755b7-93c2-4854-e7e1-40af3c07e0d8"
      },
      "outputs": [
        {
          "output_type": "execute_result",
          "data": {
            "text/plain": [
              "5.033480814147481"
            ]
          },
          "metadata": {},
          "execution_count": 30
        }
      ],
      "source": [
        "np.mean(sample_mean)"
      ]
    },
    {
      "cell_type": "markdown",
      "id": "0d9a855f",
      "metadata": {
        "id": "0d9a855f"
      },
      "source": [
        "# confidence interval and margin of error"
      ]
    },
    {
      "cell_type": "code",
      "execution_count": null,
      "id": "289b1de4",
      "metadata": {
        "id": "289b1de4"
      },
      "outputs": [],
      "source": [
        "population=np.random.randint(10,20,50)"
      ]
    },
    {
      "cell_type": "code",
      "execution_count": null,
      "id": "dfcadc80",
      "metadata": {
        "colab": {
          "base_uri": "https://localhost:8080/"
        },
        "id": "dfcadc80",
        "outputId": "43cf2d87-5d22-42ac-e329-62f8e9660969"
      },
      "outputs": [
        {
          "output_type": "execute_result",
          "data": {
            "text/plain": [
              "array([18, 17, 17, 19, 18, 13, 19, 13, 15, 15, 15, 16, 19, 13, 18, 17, 12,\n",
              "       17, 15, 16, 14, 13, 16, 15, 17, 13, 19, 15, 12, 13, 18, 18, 10, 17,\n",
              "       16, 18, 14, 14, 12, 14, 18, 17, 18, 19, 15, 11, 19, 10, 18, 19])"
            ]
          },
          "metadata": {},
          "execution_count": 32
        }
      ],
      "source": [
        "population"
      ]
    },
    {
      "cell_type": "code",
      "execution_count": null,
      "id": "7596febe",
      "metadata": {
        "id": "7596febe"
      },
      "outputs": [],
      "source": [
        "sample1=np.random.choice(population,20)\n",
        "sample2=np.random.choice(population,20)\n",
        "sample3=np.random.choice(population,20)\n",
        "sample4=np.random.choice(population,20)"
      ]
    },
    {
      "cell_type": "code",
      "execution_count": null,
      "id": "788731f5",
      "metadata": {
        "id": "788731f5"
      },
      "outputs": [],
      "source": [
        "mean_of_samples=[]\n",
        "\n",
        "all_sample=[sample1,sample2,sample3,sample4]\n",
        "\n",
        "for sample in all_sample:\n",
        "    mean_of_samples.append(np.mean(sample))"
      ]
    },
    {
      "cell_type": "code",
      "execution_count": null,
      "id": "24335a4c",
      "metadata": {
        "id": "24335a4c"
      },
      "outputs": [],
      "source": [
        "import scipy.stats as stats"
      ]
    },
    {
      "cell_type": "code",
      "execution_count": null,
      "id": "e6cdb297",
      "metadata": {
        "id": "e6cdb297"
      },
      "outputs": [],
      "source": [
        "#stats.norm.ppf(q=0.95)\n",
        "#stats.norm.ppf(q=0.975)\n",
        "#stats.norm.ppf(q=0.99)"
      ]
    },
    {
      "cell_type": "code",
      "execution_count": null,
      "id": "fdbdf016",
      "metadata": {
        "id": "fdbdf016"
      },
      "outputs": [],
      "source": [
        "z_critical = stats.norm.ppf(q=0.975)\n"
      ]
    },
    {
      "cell_type": "code",
      "execution_count": null,
      "id": "7f14ec45",
      "metadata": {
        "id": "7f14ec45"
      },
      "outputs": [],
      "source": [
        "t_critical = stats.t.ppf(q=0.975,df=24)"
      ]
    },
    {
      "cell_type": "code",
      "execution_count": null,
      "id": "02631dfe",
      "metadata": {
        "id": "02631dfe"
      },
      "outputs": [],
      "source": [
        "margin_of_error = z_critical * (np.std(mean_of_samples)/np.sqrt(20))"
      ]
    },
    {
      "cell_type": "code",
      "execution_count": null,
      "id": "85966e95",
      "metadata": {
        "colab": {
          "base_uri": "https://localhost:8080/"
        },
        "id": "85966e95",
        "outputId": "64f44586-fc68-40ba-abb7-07e54f4116b6"
      },
      "outputs": [
        {
          "output_type": "execute_result",
          "data": {
            "text/plain": [
              "15.58072202267845"
            ]
          },
          "metadata": {},
          "execution_count": 40
        }
      ],
      "source": [
        "np.mean(mean_of_samples)-margin_of_error"
      ]
    },
    {
      "cell_type": "code",
      "execution_count": null,
      "id": "bc2f370f",
      "metadata": {
        "colab": {
          "base_uri": "https://localhost:8080/"
        },
        "id": "bc2f370f",
        "outputId": "b14d0116-e7b3-4847-bb89-3d4b059854bc"
      },
      "outputs": [
        {
          "output_type": "execute_result",
          "data": {
            "text/plain": [
              "15.894277977321543"
            ]
          },
          "metadata": {},
          "execution_count": 41
        }
      ],
      "source": [
        "np.mean(mean_of_samples)+margin_of_error"
      ]
    },
    {
      "cell_type": "markdown",
      "id": "fdd14f7f",
      "metadata": {
        "id": "fdd14f7f"
      },
      "source": [
        "# Z-test"
      ]
    },
    {
      "cell_type": "code",
      "execution_count": null,
      "id": "79534cfb",
      "metadata": {
        "id": "79534cfb"
      },
      "outputs": [],
      "source": [
        "from numpy.random import randn\n",
        "population=randn(100)\n"
      ]
    },
    {
      "cell_type": "code",
      "execution_count": null,
      "id": "136c9741",
      "metadata": {
        "colab": {
          "base_uri": "https://localhost:8080/"
        },
        "id": "136c9741",
        "outputId": "f583db3f-4dfc-4d66-801a-b26aac54c6a7"
      },
      "outputs": [
        {
          "output_type": "execute_result",
          "data": {
            "text/plain": [
              "array([-0.03445631, -0.13662783,  0.11153947, -0.23271784, -0.86992363,\n",
              "        0.85053256,  0.44930652,  0.34820573,  0.44235994, -0.61219547,\n",
              "       -1.2646169 ,  0.38999453, -1.57621886, -0.94299271, -1.07125559,\n",
              "       -0.95846712, -1.00440143,  1.88938437, -1.76435427, -0.96339198,\n",
              "        0.5682118 ,  0.29935847,  0.79822252, -0.37939805,  0.76432816,\n",
              "        0.60994102,  0.95058155,  0.1830138 ,  0.98398508, -0.1180456 ,\n",
              "        1.05431845,  1.05911313,  1.28816956, -0.13635872, -1.02003401,\n",
              "        1.20382233, -0.25497343, -1.37270887, -0.19161395, -2.31960523,\n",
              "       -1.84461861, -0.72755803,  0.33229028,  1.70580321,  0.26452227,\n",
              "        0.0973767 , -1.56447904,  1.29810345,  1.06799209,  0.13651054,\n",
              "        1.24066806,  0.99856542, -1.7096662 ,  0.72792246,  1.2949032 ,\n",
              "        0.87251481,  0.24379554, -0.10251526, -1.73941492, -0.61861842,\n",
              "        0.09413115,  0.06795435, -0.64274543, -1.1569377 ,  0.0729311 ,\n",
              "        0.4124975 , -1.12618542, -1.3789079 , -0.4224872 , -0.08766101,\n",
              "        0.07324152, -0.38072668,  2.57549152,  0.16062658, -0.29150539,\n",
              "       -0.31291691,  1.69575245, -0.28656307,  0.2697381 ,  0.28138191,\n",
              "       -0.37348976,  1.22936577,  1.65464452,  0.7137418 , -1.35191936,\n",
              "        0.49830137, -0.90382432,  0.72685892,  0.53566086, -0.77879057,\n",
              "        0.47307812,  0.89575113, -0.53393684, -1.87763205, -0.44550411,\n",
              "       -0.56208217, -1.69689574, -0.69555158, -0.38578129,  1.37306484])"
            ]
          },
          "metadata": {},
          "execution_count": 43
        }
      ],
      "source": [
        "population"
      ]
    },
    {
      "cell_type": "code",
      "execution_count": null,
      "id": "98c79158",
      "metadata": {
        "colab": {
          "base_uri": "https://localhost:8080/",
          "height": 644
        },
        "id": "98c79158",
        "outputId": "690172dd-c8ba-4dcc-dfc8-d538c983de6c"
      },
      "outputs": [
        {
          "output_type": "stream",
          "name": "stderr",
          "text": [
            "<ipython-input-44-8d1caca3cc70>:1: UserWarning: \n",
            "\n",
            "`distplot` is a deprecated function and will be removed in seaborn v0.14.0.\n",
            "\n",
            "Please adapt your code to use either `displot` (a figure-level function with\n",
            "similar flexibility) or `histplot` (an axes-level function for histograms).\n",
            "\n",
            "For a guide to updating your code to use the new functions, please see\n",
            "https://gist.github.com/mwaskom/de44147ed2974457ad6372750bbe5751\n",
            "\n",
            "  sns.distplot(population)\n"
          ]
        },
        {
          "output_type": "execute_result",
          "data": {
            "text/plain": [
              "<Axes: ylabel='Density'>"
            ]
          },
          "metadata": {},
          "execution_count": 44
        },
        {
          "output_type": "display_data",
          "data": {
            "text/plain": [
              "<Figure size 640x480 with 1 Axes>"
            ],
            "image/png": "[encoded data removed]"
          },
          "metadata": {}
        }
      ],
      "source": [
        "sns.distplot(population)"
      ]
    },
    {
      "cell_type": "code",
      "execution_count": null,
      "id": "52c2798c",
      "metadata": {
        "colab": {
          "base_uri": "https://localhost:8080/"
        },
        "id": "52c2798c",
        "outputId": "f20ac333-b2a4-429b-f16e-acf505dab30f"
      },
      "outputs": [
        {
          "output_type": "stream",
          "name": "stdout",
          "text": [
            "here is a mean of the population: -0.028937022678060025,here is a std dev 0.9778170540049754\n"
          ]
        }
      ],
      "source": [
        "print(f\"here is a mean of the population: {np.mean(population)},here is a std dev {np.std(population)}\")"
      ]
    },
    {
      "cell_type": "code",
      "execution_count": null,
      "id": "ff4c5df4",
      "metadata": {
        "id": "ff4c5df4"
      },
      "outputs": [],
      "source": [
        "null_mean= 0.022"
      ]
    },
    {
      "cell_type": "code",
      "execution_count": null,
      "id": "96b11e5f",
      "metadata": {
        "id": "96b11e5f"
      },
      "outputs": [],
      "source": [
        "# C.I=95%\n",
        "# ALPHA=0.05(5%)"
      ]
    },
    {
      "cell_type": "code",
      "execution_count": null,
      "id": "98b83888",
      "metadata": {
        "id": "98b83888"
      },
      "outputs": [],
      "source": [
        "#P<=0.05#REJECT THE NULL HYPHOTHESIS\n",
        "#P>0.05 #YOU ARE GOING TO ACCEPT THE NULL HYPHOTEIS"
      ]
    },
    {
      "cell_type": "code",
      "execution_count": null,
      "id": "9a3300b2",
      "metadata": {
        "id": "9a3300b2"
      },
      "outputs": [],
      "source": [
        "# P<=ALPHA\n",
        "# P>ALPHA"
      ]
    },
    {
      "cell_type": "code",
      "execution_count": null,
      "id": "3a9376f6",
      "metadata": {
        "id": "3a9376f6"
      },
      "outputs": [],
      "source": [
        "p_value=0.05\n",
        "ALPHA=0.05"
      ]
    },
    {
      "cell_type": "code",
      "execution_count": null,
      "id": "dcb534fb",
      "metadata": {
        "id": "dcb534fb"
      },
      "outputs": [],
      "source": [
        "from statsmodels.stats.weightstats import ztest\n",
        "z_score,p_value=ztest(population,value=null_mean,alternative='larger')"
      ]
    },
    {
      "cell_type": "code",
      "execution_count": null,
      "id": "bac4f0f5",
      "metadata": {
        "colab": {
          "base_uri": "https://localhost:8080/"
        },
        "id": "bac4f0f5",
        "outputId": "54c5cb06-88c0-4d58-805d-169bab79afde"
      },
      "outputs": [
        {
          "output_type": "execute_result",
          "data": {
            "text/plain": [
              "-0.5183147240140776"
            ]
          },
          "metadata": {},
          "execution_count": 51
        }
      ],
      "source": [
        "z_score"
      ]
    },
    {
      "cell_type": "code",
      "execution_count": null,
      "id": "be7bb474",
      "metadata": {
        "colab": {
          "base_uri": "https://localhost:8080/"
        },
        "id": "be7bb474",
        "outputId": "7cbae6a7-2255-4e27-92cf-1c90f79d5c66"
      },
      "outputs": [
        {
          "output_type": "execute_result",
          "data": {
            "text/plain": [
              "0.6978806492520782"
            ]
          },
          "metadata": {},
          "execution_count": 52
        }
      ],
      "source": [
        "p_value"
      ]
    },
    {
      "cell_type": "code",
      "execution_count": null,
      "id": "25f00495",
      "metadata": {
        "colab": {
          "base_uri": "https://localhost:8080/"
        },
        "id": "25f00495",
        "outputId": "fb1645f8-001e-44f4-852b-ac332c16c8cb"
      },
      "outputs": [
        {
          "output_type": "stream",
          "name": "stdout",
          "text": [
            "we are going to accpept the null hyphothesis\n"
          ]
        }
      ],
      "source": [
        "if (p_value<ALPHA):\n",
        "    print(\"reject the null hyphothesis\")\n",
        "else:\n",
        "    print(\"we are going to accpept the null hyphothesis\")\n"
      ]
    },
    {
      "cell_type": "code",
      "execution_count": null,
      "id": "a09bd851",
      "metadata": {
        "id": "a09bd851"
      },
      "outputs": [],
      "source": [
        "\"\"\"1 how to check the normality of the data\n",
        "2. z test\n",
        "3. t test\n",
        "4. chi squre test\n",
        "5 anova test\"\"\""
      ]
    },
    {
      "cell_type": "code",
      "execution_count": null,
      "id": "b85b3c76",
      "metadata": {
        "id": "b85b3c76"
      },
      "outputs": [],
      "source": [
        "#import the dataset\n",
        "import pandas as pd\n",
        "data=pd.read_csv(\"https://raw.githubusercontent.com/shrikant-temburwar/Wine-Quality-Dataset/master/winequality-red.csv\",sep=';')"
      ]
    },
    {
      "cell_type": "code",
      "execution_count": null,
      "id": "0d8e1bf4",
      "metadata": {
        "colab": {
          "base_uri": "https://localhost:8080/",
          "height": 250
        },
        "id": "0d8e1bf4",
        "outputId": "14bd82ac-a33c-4d8c-d2c2-799a7166c9fd"
      },
      "outputs": [
        {
          "output_type": "execute_result",
          "data": {
            "text/plain": [
              "   fixed acidity  volatile acidity  citric acid  residual sugar  chlorides  \\\n",
              "0            7.4              0.70         0.00             1.9      0.076   \n",
              "1            7.8              0.88         0.00             2.6      0.098   \n",
              "2            7.8              0.76         0.04             2.3      0.092   \n",
              "3           11.2              0.28         0.56             1.9      0.075   \n",
              "4            7.4              0.70         0.00             1.9      0.076   \n",
              "\n",
              "   free sulfur dioxide  total sulfur dioxide  density    pH  sulphates  \\\n",
              "0                 11.0                  34.0   0.9978  3.51       0.56   \n",
              "1                 25.0                  67.0   0.9968  3.20       0.68   \n",
              "2                 15.0                  54.0   0.9970  3.26       0.65   \n",
              "3                 17.0                  60.0   0.9980  3.16       0.58   \n",
              "4                 11.0                  34.0   0.9978  3.51       0.56   \n",
              "\n",
              "   alcohol  quality  \n",
              "0      9.4        5  \n",
              "1      9.8        5  \n",
              "2      9.8        5  \n",
              "3      9.8        6  \n",
              "4      9.4        5  "
            ],
            "text/html": [
              "\n",
              "\n",
              "  <div id=\"df-158a7832-86c0-4a50-bdff-bdebceea142f\">\n",
              "    <div class=\"colab-df-container\">\n",
              "      <div>\n",
              "<style scoped>\n",
              "    .dataframe tbody tr th:only-of-type {\n",
              "        vertical-align: middle;\n",
              "    }\n",
              "\n",
              "    .dataframe tbody tr th {\n",
              "        vertical-align: top;\n",
              "    }\n",
              "\n",
              "    .dataframe thead th {\n",
              "        text-align: right;\n",
              "    }\n",
              "</style>\n",
              "<table border=\"1\" class=\"dataframe\">\n",
              "  <thead>\n",
              "    <tr style=\"text-align: right;\">\n",
              "      <th></th>\n",
              "      <th>fixed acidity</th>\n",
              "      <th>volatile acidity</th>\n",
              "      <th>citric acid</th>\n",
              "      <th>residual sugar</th>\n",
              "      <th>chlorides</th>\n",
              "      <th>free sulfur dioxide</th>\n",
              "      <th>total sulfur dioxide</th>\n",
              "      <th>density</th>\n",
              "      <th>pH</th>\n",
              "      <th>sulphates</th>\n",
              "      <th>alcohol</th>\n",
              "      <th>quality</th>\n",
              "    </tr>\n",
              "  </thead>\n",
              "  <tbody>\n",
              "    <tr>\n",
              "      <th>0</th>\n",
              "      <td>7.4</td>\n",
              "      <td>0.70</td>\n",
              "      <td>0.00</td>\n",
              "      <td>1.9</td>\n",
              "      <td>0.076</td>\n",
              "      <td>11.0</td>\n",
              "      <td>34.0</td>\n",
              "      <td>0.9978</td>\n",
              "      <td>3.51</td>\n",
              "      <td>0.56</td>\n",
              "      <td>9.4</td>\n",
              "      <td>5</td>\n",
              "    </tr>\n",
              "    <tr>\n",
              "      <th>1</th>\n",
              "      <td>7.8</td>\n",
              "      <td>0.88</td>\n",
              "      <td>0.00</td>\n",
              "      <td>2.6</td>\n",
              "      <td>0.098</td>\n",
              "      <td>25.0</td>\n",
              "      <td>67.0</td>\n",
              "      <td>0.9968</td>\n",
              "      <td>3.20</td>\n",
              "      <td>0.68</td>\n",
              "      <td>9.8</td>\n",
              "      <td>5</td>\n",
              "    </tr>\n",
              "    <tr>\n",
              "      <th>2</th>\n",
              "      <td>7.8</td>\n",
              "      <td>0.76</td>\n",
              "      <td>0.04</td>\n",
              "      <td>2.3</td>\n",
              "      <td>0.092</td>\n",
              "      <td>15.0</td>\n",
              "      <td>54.0</td>\n",
              "      <td>0.9970</td>\n",
              "      <td>3.26</td>\n",
              "      <td>0.65</td>\n",
              "      <td>9.8</td>\n",
              "      <td>5</td>\n",
              "    </tr>\n",
              "    <tr>\n",
              "      <th>3</th>\n",
              "      <td>11.2</td>\n",
              "      <td>0.28</td>\n",
              "      <td>0.56</td>\n",
              "      <td>1.9</td>\n",
              "      <td>0.075</td>\n",
              "      <td>17.0</td>\n",
              "      <td>60.0</td>\n",
              "      <td>0.9980</td>\n",
              "      <td>3.16</td>\n",
              "      <td>0.58</td>\n",
              "      <td>9.8</td>\n",
              "      <td>6</td>\n",
              "    </tr>\n",
              "    <tr>\n",
              "      <th>4</th>\n",
              "      <td>7.4</td>\n",
              "      <td>0.70</td>\n",
              "      <td>0.00</td>\n",
              "      <td>1.9</td>\n",
              "      <td>0.076</td>\n",
              "      <td>11.0</td>\n",
              "      <td>34.0</td>\n",
              "      <td>0.9978</td>\n",
              "      <td>3.51</td>\n",
              "      <td>0.56</td>\n",
              "      <td>9.4</td>\n",
              "      <td>5</td>\n",
              "    </tr>\n",
              "  </tbody>\n",
              "</table>\n",
              "</div>\n",
              "      <button class=\"colab-df-convert\" onclick=\"convertToInteractive('df-158a7832-86c0-4a50-bdff-bdebceea142f')\"\n",
              "              title=\"Convert this dataframe to an interactive table.\"\n",
              "              style=\"display:none;\">\n",
              "\n",
              "  <svg xmlns=\"http://www.w3.org/2000/svg\" height=\"24px\"viewBox=\"0 0 24 24\"\n",
              "       width=\"24px\">\n",
              "    <path d=\"M0 0h24v24H0V0z\" fill=\"none\"/>\n",
              "    <path d=\"M18.56 5.44l.94 2.06.94-2.06 2.06-.94-2.06-.94-.94-2.06-.94 2.06-2.06.94zm-11 1L8.5 8.5l.94-2.06 2.06-.94-2.06-.94L8.5 2.5l-.94 2.06-2.06.94zm10 10l.94 2.06.94-2.06 2.06-.94-2.06-.94-.94-2.06-.94 2.06-2.06.94z\"/><path d=\"M17.41 7.96l-1.37-1.37c-.4-.4-.92-.59-1.43-.59-.52 0-1.04.2-1.43.59L10.3 9.45l-7.72 7.72c-.78.78-.78 2.05 0 2.83L4 21.41c.39.39.9.59 1.41.59.51 0 1.02-.2 1.41-.59l7.78-7.78 2.81-2.81c.8-.78.8-2.07 0-2.86zM5.41 20L4 18.59l7.72-7.72 1.47 1.35L5.41 20z\"/>\n",
              "  </svg>\n",
              "      </button>\n",
              "\n",
              "\n",
              "\n",
              "    <div id=\"df-1a2cdf05-c676-457c-8fac-0670f280982e\">\n",
              "      <button class=\"colab-df-quickchart\" onclick=\"quickchart('df-1a2cdf05-c676-457c-8fac-0670f280982e')\"\n",
              "              title=\"Suggest charts.\"\n",
              "              style=\"display:none;\">\n",
              "\n",
              "<svg xmlns=\"http://www.w3.org/2000/svg\" height=\"24px\"viewBox=\"0 0 24 24\"\n",
              "     width=\"24px\">\n",
              "    <g>\n",
              "        <path d=\"M19 3H5c-1.1 0-2 .9-2 2v14c0 1.1.9 2 2 2h14c1.1 0 2-.9 2-2V5c0-1.1-.9-2-2-2zM9 17H7v-7h2v7zm4 0h-2V7h2v10zm4 0h-2v-4h2v4z\"/>\n",
              "    </g>\n",
              "</svg>\n",
              "      </button>\n",
              "    </div>\n",
              "\n",
              "<style>\n",
              "  .colab-df-quickchart {\n",
              "    background-color: #E8F0FE;\n",
              "    border: none;\n",
              "    border-radius: 50%;\n",
              "    cursor: pointer;\n",
              "    display: none;\n",
              "    fill: #1967D2;\n",
              "    height: 32px;\n",
              "    padding: 0 0 0 0;\n",
              "    width: 32px;\n",
              "  }\n",
              "\n",
              "  .colab-df-quickchart:hover {\n",
              "    background-color: #E2EBFA;\n",
              "    box-shadow: 0px 1px 2px rgba(60, 64, 67, 0.3), 0px 1px 3px 1px rgba(60, 64, 67, 0.15);\n",
              "    fill: #174EA6;\n",
              "  }\n",
              "\n",
              "  [theme=dark] .colab-df-quickchart {\n",
              "    background-color: #3B4455;\n",
              "    fill: #D2E3FC;\n",
              "  }\n",
              "\n",
              "  [theme=dark] .colab-df-quickchart:hover {\n",
              "    background-color: #434B5C;\n",
              "    box-shadow: 0px 1px 3px 1px rgba(0, 0, 0, 0.15);\n",
              "    filter: drop-shadow(0px 1px 2px rgba(0, 0, 0, 0.3));\n",
              "    fill: #FFFFFF;\n",
              "  }\n",
              "</style>\n",
              "\n",
              "    <script>\n",
              "      async function quickchart(key) {\n",
              "        const containerElement = document.querySelector('#' + key);\n",
              "        const charts = await google.colab.kernel.invokeFunction(\n",
              "            'suggestCharts', [key], {});\n",
              "      }\n",
              "    </script>\n",
              "\n",
              "      <script>\n",
              "\n",
              "function displayQuickchartButton(domScope) {\n",
              "  let quickchartButtonEl =\n",
              "    domScope.querySelector('#df-1a2cdf05-c676-457c-8fac-0670f280982e button.colab-df-quickchart');\n",
              "  quickchartButtonEl.style.display =\n",
              "    google.colab.kernel.accessAllowed ? 'block' : 'none';\n",
              "}\n",
              "\n",
              "        displayQuickchartButton(document);\n",
              "      </script>\n",
              "      <style>\n",
              "    .colab-df-container {\n",
              "      display:flex;\n",
              "      flex-wrap:wrap;\n",
              "      gap: 12px;\n",
              "    }\n",
              "\n",
              "    .colab-df-convert {\n",
              "      background-color: #E8F0FE;\n",
              "      border: none;\n",
              "      border-radius: 50%;\n",
              "      cursor: pointer;\n",
              "      display: none;\n",
              "      fill: #1967D2;\n",
              "      height: 32px;\n",
              "      padding: 0 0 0 0;\n",
              "      width: 32px;\n",
              "    }\n",
              "\n",
              "    .colab-df-convert:hover {\n",
              "      background-color: #E2EBFA;\n",
              "      box-shadow: 0px 1px 2px rgba(60, 64, 67, 0.3), 0px 1px 3px 1px rgba(60, 64, 67, 0.15);\n",
              "      fill: #174EA6;\n",
              "    }\n",
              "\n",
              "    [theme=dark] .colab-df-convert {\n",
              "      background-color: #3B4455;\n",
              "      fill: #D2E3FC;\n",
              "    }\n",
              "\n",
              "    [theme=dark] .colab-df-convert:hover {\n",
              "      background-color: #434B5C;\n",
              "      box-shadow: 0px 1px 3px 1px rgba(0, 0, 0, 0.15);\n",
              "      filter: drop-shadow(0px 1px 2px rgba(0, 0, 0, 0.3));\n",
              "      fill: #FFFFFF;\n",
              "    }\n",
              "  </style>\n",
              "\n",
              "      <script>\n",
              "        const buttonEl =\n",
              "          document.querySelector('#df-158a7832-86c0-4a50-bdff-bdebceea142f button.colab-df-convert');\n",
              "        buttonEl.style.display =\n",
              "          google.colab.kernel.accessAllowed ? 'block' : 'none';\n",
              "\n",
              "        async function convertToInteractive(key) {\n",
              "          const element = document.querySelector('#df-158a7832-86c0-4a50-bdff-bdebceea142f');\n",
              "          const dataTable =\n",
              "            await google.colab.kernel.invokeFunction('convertToInteractive',\n",
              "                                                     [key], {});\n",
              "          if (!dataTable) return;\n",
              "\n",
              "          const docLinkHtml = 'Like what you see? Visit the ' +\n",
              "            '<a target=\"_blank\" href=https://colab.research.google.com/notebooks/data_table.ipynb>data table notebook</a>'\n",
              "            + ' to learn more about interactive tables.';\n",
              "          element.innerHTML = '';\n",
              "          dataTable['output_type'] = 'display_data';\n",
              "          await google.colab.output.renderOutput(dataTable, element);\n",
              "          const docLink = document.createElement('div');\n",
              "          docLink.innerHTML = docLinkHtml;\n",
              "          element.appendChild(docLink);\n",
              "        }\n",
              "      </script>\n",
              "    </div>\n",
              "  </div>\n"
            ]
          },
          "metadata": {},
          "execution_count": 55
        }
      ],
      "source": [
        "data.head()"
      ]
    },
    {
      "cell_type": "code",
      "execution_count": null,
      "id": "cddae1da",
      "metadata": {
        "colab": {
          "base_uri": "https://localhost:8080/"
        },
        "id": "cddae1da",
        "outputId": "f9c875d8-7483-4ef3-d454-7ab4911eeefa"
      },
      "outputs": [
        {
          "output_type": "execute_result",
          "data": {
            "text/plain": [
              "0       0.700\n",
              "1       0.880\n",
              "2       0.760\n",
              "3       0.280\n",
              "4       0.700\n",
              "        ...  \n",
              "1594    0.600\n",
              "1595    0.550\n",
              "1596    0.510\n",
              "1597    0.645\n",
              "1598    0.310\n",
              "Name: volatile acidity, Length: 1599, dtype: float64"
            ]
          },
          "metadata": {},
          "execution_count": 56
        }
      ],
      "source": [
        "data['volatile acidity']"
      ]
    },
    {
      "cell_type": "code",
      "execution_count": null,
      "id": "4c12b8e6",
      "metadata": {
        "colab": {
          "base_uri": "https://localhost:8080/",
          "height": 663
        },
        "id": "4c12b8e6",
        "outputId": "ac11d7c3-8421-4e1d-fdb5-ffe40cfaf1a7"
      },
      "outputs": [
        {
          "output_type": "stream",
          "name": "stderr",
          "text": [
            "<ipython-input-57-46183321733f>:2: UserWarning: \n",
            "\n",
            "`distplot` is a deprecated function and will be removed in seaborn v0.14.0.\n",
            "\n",
            "Please adapt your code to use either `displot` (a figure-level function with\n",
            "similar flexibility) or `histplot` (an axes-level function for histograms).\n",
            "\n",
            "For a guide to updating your code to use the new functions, please see\n",
            "https://gist.github.com/mwaskom/de44147ed2974457ad6372750bbe5751\n",
            "\n",
            "  sns.distplot(data['volatile acidity'],kde=True)\n"
          ]
        },
        {
          "output_type": "execute_result",
          "data": {
            "text/plain": [
              "<Axes: xlabel='volatile acidity', ylabel='Density'>"
            ]
          },
          "metadata": {},
          "execution_count": 57
        },
        {
          "output_type": "display_data",
          "data": {
            "text/plain": [
              "<Figure size 640x480 with 1 Axes>"
            ],
            "image/png": "[encoded data removed]"
          },
          "metadata": {}
        }
      ],
      "source": [
        "import seaborn as sns\n",
        "sns.distplot(data['volatile acidity'],kde=True)"
      ]
    },
    {
      "cell_type": "code",
      "execution_count": null,
      "id": "3c212273",
      "metadata": {
        "colab": {
          "base_uri": "https://localhost:8080/",
          "height": 663
        },
        "id": "3c212273",
        "outputId": "5e8db513-bb46-4581-8954-3ff9d5b593db"
      },
      "outputs": [
        {
          "output_type": "stream",
          "name": "stderr",
          "text": [
            "<ipython-input-58-56c27c2b728b>:2: UserWarning: \n",
            "\n",
            "`distplot` is a deprecated function and will be removed in seaborn v0.14.0.\n",
            "\n",
            "Please adapt your code to use either `displot` (a figure-level function with\n",
            "similar flexibility) or `histplot` (an axes-level function for histograms).\n",
            "\n",
            "For a guide to updating your code to use the new functions, please see\n",
            "https://gist.github.com/mwaskom/de44147ed2974457ad6372750bbe5751\n",
            "\n",
            "  sns.distplot(data['citric acid'],kde=True,color='red')\n"
          ]
        },
        {
          "output_type": "execute_result",
          "data": {
            "text/plain": [
              "<Axes: xlabel='citric acid', ylabel='Density'>"
            ]
          },
          "metadata": {},
          "execution_count": 58
        },
        {
          "output_type": "display_data",
          "data": {
            "text/plain": [
              "<Figure size 640x480 with 1 Axes>"
            ],
            "image/png": "[encoded data removed]"
          },
          "metadata": {}
        }
      ],
      "source": [
        "import seaborn as sns\n",
        "sns.distplot(data['citric acid'],kde=True,color='red')"
      ]
    },
    {
      "cell_type": "code",
      "execution_count": null,
      "id": "0d1b1054",
      "metadata": {
        "colab": {
          "base_uri": "https://localhost:8080/"
        },
        "id": "0d1b1054",
        "outputId": "289d3374-4845-4a1b-e5db-e23841f86a4e"
      },
      "outputs": [
        {
          "output_type": "execute_result",
          "data": {
            "text/plain": [
              "ShapiroResult(statistic=0.9743338823318481, pvalue=2.686385373947307e-16)"
            ]
          },
          "metadata": {},
          "execution_count": 59
        }
      ],
      "source": [
        "from scipy import stats\n",
        "stats.shapiro(data['volatile acidity'])"
      ]
    },
    {
      "cell_type": "code",
      "execution_count": null,
      "id": "0a8df64a",
      "metadata": {
        "colab": {
          "base_uri": "https://localhost:8080/"
        },
        "id": "0a8df64a",
        "outputId": "5864093c-4254-423b-9daa-a982fc866036"
      },
      "outputs": [
        {
          "output_type": "execute_result",
          "data": {
            "text/plain": [
              "ShapiroResult(statistic=0.955294668674469, pvalue=1.0233944777578548e-21)"
            ]
          },
          "metadata": {},
          "execution_count": 60
        }
      ],
      "source": [
        "stats.shapiro(data['citric acid'])"
      ]
    },
    {
      "cell_type": "code",
      "execution_count": null,
      "id": "8474ae27",
      "metadata": {
        "id": "8474ae27"
      },
      "outputs": [],
      "source": [
        "# p<0.05"
      ]
    },
    {
      "cell_type": "code",
      "execution_count": null,
      "id": "98869837",
      "metadata": {
        "id": "98869837"
      },
      "outputs": [],
      "source": [
        "from numpy.random import randn\n",
        "mydata=randn(500)"
      ]
    },
    {
      "cell_type": "code",
      "execution_count": null,
      "id": "cb8677b6",
      "metadata": {
        "scrolled": true,
        "colab": {
          "base_uri": "https://localhost:8080/",
          "height": 644
        },
        "id": "cb8677b6",
        "outputId": "5e9cdbe4-8bdf-4ccc-99d9-5edff31f83b0"
      },
      "outputs": [
        {
          "output_type": "stream",
          "name": "stderr",
          "text": [
            "<ipython-input-64-9375a77d2e7a>:1: UserWarning: \n",
            "\n",
            "`distplot` is a deprecated function and will be removed in seaborn v0.14.0.\n",
            "\n",
            "Please adapt your code to use either `displot` (a figure-level function with\n",
            "similar flexibility) or `histplot` (an axes-level function for histograms).\n",
            "\n",
            "For a guide to updating your code to use the new functions, please see\n",
            "https://gist.github.com/mwaskom/de44147ed2974457ad6372750bbe5751\n",
            "\n",
            "  sns.distplot(mydata)\n"
          ]
        },
        {
          "output_type": "execute_result",
          "data": {
            "text/plain": [
              "<Axes: ylabel='Density'>"
            ]
          },
          "metadata": {},
          "execution_count": 64
        },
        {
          "output_type": "display_data",
          "data": {
            "text/plain": [
              "<Figure size 640x480 with 1 Axes>"
            ],
            "image/png": "[encoded data removed]"
          },
          "metadata": {}
        }
      ],
      "source": [
        "sns.distplot(mydata)"
      ]
    },
    {
      "cell_type": "code",
      "execution_count": null,
      "id": "0587771f",
      "metadata": {
        "id": "0587771f"
      },
      "outputs": [],
      "source": [
        "result=stats.shapiro(mydata)"
      ]
    },
    {
      "cell_type": "code",
      "execution_count": null,
      "id": "428ae228",
      "metadata": {
        "colab": {
          "base_uri": "https://localhost:8080/"
        },
        "id": "428ae228",
        "outputId": "ee1ffbb7-022c-4ad6-e0c3-baee0961f88e"
      },
      "outputs": [
        {
          "output_type": "execute_result",
          "data": {
            "text/plain": [
              "ShapiroResult(statistic=0.9926109910011292, pvalue=0.014307793229818344)"
            ]
          },
          "metadata": {},
          "execution_count": 66
        }
      ],
      "source": [
        "result"
      ]
    },
    {
      "cell_type": "markdown",
      "id": "5d2b493c",
      "metadata": {
        "id": "5d2b493c"
      },
      "source": [
        "## what is my null hyphothesis?\n",
        "## null hypothesis that the data was drawn from a normal distribution."
      ]
    },
    {
      "cell_type": "code",
      "execution_count": null,
      "id": "603e76be",
      "metadata": {
        "colab": {
          "base_uri": "https://localhost:8080/",
          "height": 232
        },
        "id": "603e76be",
        "outputId": "93a30fca-caa5-477e-f869-ae4d97b03da2"
      },
      "outputs": [
        {
          "output_type": "error",
          "ename": "NameError",
          "evalue": "ignored",
          "traceback": [
            "\u001b[0;31m---------------------------------------------------------------------------\u001b[0m",
            "\u001b[0;31mNameError\u001b[0m                                 Traceback (most recent call last)",
            "\u001b[0;32m<ipython-input-71-202a8de42bae>\u001b[0m in \u001b[0;36m<cell line: 1>\u001b[0;34m()\u001b[0m\n\u001b[0;32m----> 1\u001b[0;31m \u001b[0;32mif\u001b[0m \u001b[0mp\u001b[0m\u001b[0;34m<=\u001b[0m\u001b[0mresult\u001b[0m\u001b[0;34m[\u001b[0m\u001b[0;36m1\u001b[0m\u001b[0;34m]\u001b[0m\u001b[0;34m:\u001b[0m\u001b[0;34m\u001b[0m\u001b[0;34m\u001b[0m\u001b[0m\n\u001b[0m\u001b[1;32m      2\u001b[0m     \u001b[0mprint\u001b[0m\u001b[0;34m(\u001b[0m\u001b[0;34m\"reject the null hyphothesis\"\u001b[0m\u001b[0;34m)\u001b[0m\u001b[0;34m\u001b[0m\u001b[0;34m\u001b[0m\u001b[0m\n\u001b[1;32m      3\u001b[0m \u001b[0;32melse\u001b[0m\u001b[0;34m:\u001b[0m\u001b[0;34m\u001b[0m\u001b[0;34m\u001b[0m\u001b[0m\n\u001b[1;32m      4\u001b[0m     \u001b[0mprint\u001b[0m\u001b[0;34m(\u001b[0m\u001b[0;34m\"accept the null hyphothsis\"\u001b[0m\u001b[0;34m)\u001b[0m\u001b[0;34m\u001b[0m\u001b[0;34m\u001b[0m\u001b[0m\n",
            "\u001b[0;31mNameError\u001b[0m: name 'p' is not defined"
          ]
        }
      ],
      "source": [
        "if p<=result[1]:\n",
        "    print(\"reject the null hyphothesis\")\n",
        "else:\n",
        "    print(\"accept the null hyphothsis\")"
      ]
    },
    {
      "cell_type": "code",
      "execution_count": null,
      "id": "e5afbc56",
      "metadata": {
        "id": "e5afbc56",
        "outputId": "5d416725-6435-4abe-9f4f-23f2bf00682f"
      },
      "outputs": [
        {
          "data": {
            "text/plain": [
              "NormaltestResult(statistic=152.039214793795, pvalue=9.662822259281018e-34)"
            ]
          },
          "execution_count": 155,
          "metadata": {},
          "output_type": "execute_result"
        }
      ],
      "source": [
        "from scipy import stats\n",
        "stats.normaltest(data['citric acid'])"
      ]
    },
    {
      "cell_type": "code",
      "execution_count": null,
      "id": "f742dd10",
      "metadata": {
        "colab": {
          "base_uri": "https://localhost:8080/"
        },
        "id": "f742dd10",
        "outputId": "9e427f4b-454a-4cce-a2a4-d9523d1efdcc"
      },
      "outputs": [
        {
          "output_type": "execute_result",
          "data": {
            "text/plain": [
              "NormaltestResult(statistic=3.627578196969746, pvalue=0.16303520849157443)"
            ]
          },
          "metadata": {},
          "execution_count": 72
        }
      ],
      "source": [
        "stats.normaltest(mydata)"
      ]
    },
    {
      "cell_type": "code",
      "execution_count": null,
      "id": "9d8cd783",
      "metadata": {
        "id": "9d8cd783"
      },
      "outputs": [],
      "source": []
    },
    {
      "cell_type": "code",
      "execution_count": null,
      "id": "2306f535",
      "metadata": {
        "id": "2306f535"
      },
      "outputs": [],
      "source": [
        "sample_mean_iq=110\n",
        "alpha=0.05\n",
        "#ci=95%"
      ]
    },
    {
      "cell_type": "code",
      "execution_count": null,
      "id": "460b4f47",
      "metadata": {
        "id": "460b4f47"
      },
      "outputs": [],
      "source": [
        "mean_std_dev=15\n",
        "mean_population=100"
      ]
    },
    {
      "cell_type": "code",
      "execution_count": null,
      "id": "3a68e4c1",
      "metadata": {
        "colab": {
          "base_uri": "https://localhost:8080/"
        },
        "id": "3a68e4c1",
        "outputId": "7479add6-4ab7-4100-b03e-e05c9aa06a1c"
      },
      "outputs": [
        {
          "output_type": "execute_result",
          "data": {
            "text/plain": [
              "array([107.34468574, 128.55476116, 114.51246281,  89.41288217,\n",
              "       109.02079351, 103.9350767 ,  89.83200536,  94.75323373,\n",
              "       110.49728436, 125.66099197, 105.12551849, 109.5950053 ,\n",
              "        97.1129407 ,  90.38751604, 107.71707792,  96.44700251,\n",
              "       102.0972559 , 121.21775158,  97.85996341, 113.73756652,\n",
              "        93.17409669, 114.79151737, 108.6150661 , 126.2246335 ,\n",
              "       100.45116617, 140.38042067, 120.68346791, 119.64392671,\n",
              "       118.7433297 , 100.24782814, 121.73493624,  96.72210999,\n",
              "       141.36434334, 123.21058898, 110.85011154, 112.49046301,\n",
              "       106.15809849, 119.8480505 , 117.63345938,  90.72073335,\n",
              "       118.60212868,  77.83552503, 114.81810851, 123.75179586,\n",
              "       131.32480193, 104.97241994, 119.75652225, 108.49271921,\n",
              "       101.07289471, 110.00410021])"
            ]
          },
          "metadata": {},
          "execution_count": 75
        }
      ],
      "source": [
        "mean_std_dev*randn(50)+sample_mean_iq"
      ]
    },
    {
      "cell_type": "code",
      "execution_count": null,
      "id": "4fa7380b",
      "metadata": {
        "id": "4fa7380b"
      },
      "outputs": [],
      "source": [
        "data=mean_std_dev*randn(50)+mean_population"
      ]
    },
    {
      "cell_type": "code",
      "execution_count": null,
      "id": "a7ea4389",
      "metadata": {
        "colab": {
          "base_uri": "https://localhost:8080/"
        },
        "id": "a7ea4389",
        "outputId": "27e3c4c8-ca1e-4260-c3f8-17f7a4888a7e"
      },
      "outputs": [
        {
          "output_type": "execute_result",
          "data": {
            "text/plain": [
              "98.82108234735882"
            ]
          },
          "metadata": {},
          "execution_count": 77
        }
      ],
      "source": [
        "np.mean(data)"
      ]
    },
    {
      "cell_type": "code",
      "execution_count": null,
      "id": "7b28c0f5",
      "metadata": {
        "colab": {
          "base_uri": "https://localhost:8080/"
        },
        "id": "7b28c0f5",
        "outputId": "9ed5609b-c5cd-4084-e0a0-df28a37ac4ff"
      },
      "outputs": [
        {
          "output_type": "execute_result",
          "data": {
            "text/plain": [
              "16.744618268280114"
            ]
          },
          "metadata": {},
          "execution_count": 78
        }
      ],
      "source": [
        "np.std(data)"
      ]
    },
    {
      "cell_type": "code",
      "execution_count": null,
      "id": "68b9fed5",
      "metadata": {
        "id": "68b9fed5"
      },
      "outputs": [],
      "source": [
        "null_hyphothesis_value=100"
      ]
    },
    {
      "cell_type": "code",
      "execution_count": null,
      "id": "b4756720",
      "metadata": {
        "colab": {
          "base_uri": "https://localhost:8080/"
        },
        "id": "b4756720",
        "outputId": "8e44f001-41e4-4a1b-e15a-df1905d0f267"
      },
      "outputs": [
        {
          "output_type": "execute_result",
          "data": {
            "text/plain": [
              "(-0.49284035242063806, 0.6889373020478325)"
            ]
          },
          "metadata": {},
          "execution_count": 80
        }
      ],
      "source": [
        "from statsmodels.stats.weightstats import ztest\n",
        "ztest(data,value=null_hyphothesis_value,alternative='larger')"
      ]
    },
    {
      "cell_type": "code",
      "execution_count": null,
      "id": "0acc0e03",
      "metadata": {
        "colab": {
          "base_uri": "https://localhost:8080/"
        },
        "id": "0acc0e03",
        "outputId": "b841489f-1ea9-417e-918c-40138ed72811"
      },
      "outputs": [
        {
          "output_type": "execute_result",
          "data": {
            "text/plain": [
              "array([ 78.59907377, 116.46636422, 108.82033206, 110.2988321 ,\n",
              "        87.2873145 ,  92.71245847, 121.6214826 ,  88.63151248,\n",
              "       106.02782807,  72.14871382,  94.20830453,  88.06458598,\n",
              "        86.48305331, 100.67061118, 109.25250491, 109.76233793,\n",
              "       104.26342016, 121.26724589, 114.76642954,  94.54402813,\n",
              "       103.95143912, 144.85683516, 109.5555472 , 105.53891569,\n",
              "        88.75023749, 110.57815472, 123.78066422,  75.63688335,\n",
              "        96.78786723,  72.7098853 ,  82.88346402,  87.99638733,\n",
              "       103.92927927,  94.94092646,  73.57658979, 106.39852785,\n",
              "        70.34574785, 113.11502698, 116.66761481,  67.02000677,\n",
              "       108.65491831,  80.04917594, 114.59458504, 122.26599426,\n",
              "        86.72127597, 109.02230327,  77.64261487, 101.76943336,\n",
              "       105.12973384,  80.28764828])"
            ]
          },
          "metadata": {},
          "execution_count": 81
        }
      ],
      "source": [
        "data"
      ]
    },
    {
      "cell_type": "code",
      "execution_count": null,
      "id": "1322328c",
      "metadata": {
        "id": "1322328c"
      },
      "outputs": [],
      "source": [
        "#t_test"
      ]
    },
    {
      "cell_type": "code",
      "execution_count": null,
      "id": "ee007ec5",
      "metadata": {
        "id": "ee007ec5"
      },
      "outputs": [],
      "source": [
        "#ztest vs test\n",
        "sample size less than 30\n",
        "pop var/pop std won't be there"
      ]
    },
    {
      "cell_type": "code",
      "execution_count": null,
      "id": "20c6a5c9",
      "metadata": {
        "id": "20c6a5c9"
      },
      "outputs": [],
      "source": [
        "one-sample t test(with respect to one independent sample)\n",
        "two-sample t test(with respect to two independent sample)\n",
        "paired t-test(two sample from the sample population on different time interval)"
      ]
    },
    {
      "cell_type": "code",
      "execution_count": null,
      "id": "507a141a",
      "metadata": {
        "colab": {
          "base_uri": "https://localhost:8080/"
        },
        "id": "507a141a",
        "outputId": "68d48fe4-4cab-488f-f257-a5557c4ae269"
      },
      "outputs": [
        {
          "output_type": "execute_result",
          "data": {
            "text/plain": [
              "array([20, 44, 20, 29, 22, 32, 12, 29, 20, 23, 40, 29, 46, 36, 23, 26, 11,\n",
              "       14, 42, 18, 26, 46, 16, 32, 22, 41, 37, 23, 39, 31, 37, 35, 20, 12,\n",
              "       48, 13, 45, 14, 10, 28, 17, 28, 27, 48, 19, 15, 41, 43, 37, 47])"
            ]
          },
          "metadata": {},
          "execution_count": 83
        }
      ],
      "source": [
        "import random\n",
        "import numpy as np\n",
        "np.random.randint(10,50,50)"
      ]
    },
    {
      "cell_type": "code",
      "execution_count": null,
      "id": "71a7bb5a",
      "metadata": {
        "id": "71a7bb5a"
      },
      "outputs": [],
      "source": [
        "population=np.random.randint(10,50,50)"
      ]
    },
    {
      "cell_type": "code",
      "execution_count": null,
      "id": "16e76ac5",
      "metadata": {
        "id": "16e76ac5"
      },
      "outputs": [],
      "source": [
        "sample1=np.random.choice(population,20)"
      ]
    },
    {
      "cell_type": "code",
      "execution_count": null,
      "id": "3faf3c57",
      "metadata": {
        "colab": {
          "base_uri": "https://localhost:8080/"
        },
        "id": "3faf3c57",
        "outputId": "97cf1c45-bbb4-4ba5-8676-f372e8b860db"
      },
      "outputs": [
        {
          "output_type": "execute_result",
          "data": {
            "text/plain": [
              "array([49, 31, 12, 37, 32, 37, 37, 42, 40, 10, 37, 38, 30, 19, 33, 17, 38,\n",
              "       34, 24, 36])"
            ]
          },
          "metadata": {},
          "execution_count": 86
        }
      ],
      "source": [
        "sample1"
      ]
    },
    {
      "cell_type": "code",
      "execution_count": null,
      "id": "92fdc305",
      "metadata": {
        "colab": {
          "base_uri": "https://localhost:8080/"
        },
        "id": "92fdc305",
        "outputId": "5947579e-9a0d-44ab-8a98-b43d40fb661b"
      },
      "outputs": [
        {
          "output_type": "execute_result",
          "data": {
            "text/plain": [
              "31.65"
            ]
          },
          "metadata": {},
          "execution_count": 87
        }
      ],
      "source": [
        "sample1.mean()"
      ]
    },
    {
      "cell_type": "code",
      "execution_count": null,
      "id": "19496e14",
      "metadata": {
        "id": "19496e14"
      },
      "outputs": [],
      "source": [
        "sample2=np.random.choice(population,20)"
      ]
    },
    {
      "cell_type": "code",
      "execution_count": null,
      "id": "82d5e65f",
      "metadata": {
        "colab": {
          "base_uri": "https://localhost:8080/"
        },
        "id": "82d5e65f",
        "outputId": "0fadacdd-756a-4c3e-8303-8ada2edc0a3a"
      },
      "outputs": [
        {
          "output_type": "execute_result",
          "data": {
            "text/plain": [
              "array([40, 19, 21, 16, 13, 30, 24, 30, 24, 40, 49, 24, 21, 49, 49, 41, 31,\n",
              "       30, 21, 22])"
            ]
          },
          "metadata": {},
          "execution_count": 89
        }
      ],
      "source": [
        "sample2"
      ]
    },
    {
      "cell_type": "code",
      "execution_count": null,
      "id": "3303c910",
      "metadata": {
        "colab": {
          "base_uri": "https://localhost:8080/"
        },
        "id": "3303c910",
        "outputId": "b9a9fc87-54d1-4381-bb93-47057f14fac5"
      },
      "outputs": [
        {
          "output_type": "execute_result",
          "data": {
            "text/plain": [
              "29.7"
            ]
          },
          "metadata": {},
          "execution_count": 90
        }
      ],
      "source": [
        "sample2.mean()"
      ]
    },
    {
      "cell_type": "code",
      "execution_count": null,
      "id": "28eebe26",
      "metadata": {
        "id": "28eebe26"
      },
      "outputs": [],
      "source": [
        "my_cricket_score=[22, 38, 19, 15, 48, 11, 10, 49, 47, 38, 10, 25, 46, 10, 21, 24, 29,36, 25, 24]"
      ]
    },
    {
      "cell_type": "code",
      "execution_count": null,
      "id": "795de800",
      "metadata": {
        "colab": {
          "base_uri": "https://localhost:8080/"
        },
        "id": "795de800",
        "outputId": "02868782-cf33-47ab-d321-781b729a48f0"
      },
      "outputs": [
        {
          "output_type": "execute_result",
          "data": {
            "text/plain": [
              "27.35"
            ]
          },
          "metadata": {},
          "execution_count": 92
        }
      ],
      "source": [
        "np.mean(my_cricket_score)"
      ]
    },
    {
      "cell_type": "code",
      "execution_count": null,
      "id": "ee022d36",
      "metadata": {
        "id": "ee022d36"
      },
      "outputs": [],
      "source": [
        "# null_hyphothesis=sample mean should be 27.35"
      ]
    },
    {
      "cell_type": "code",
      "execution_count": null,
      "id": "9e2c69a2",
      "metadata": {
        "id": "9e2c69a2"
      },
      "outputs": [],
      "source": [
        "virat_cricket_score=[33, 45, 23, 25, 46, 46, 46, 49, 49, 14, 14, 44, 25, 31, 25, 40, 30,20, 42, 37]"
      ]
    },
    {
      "cell_type": "code",
      "execution_count": null,
      "id": "56fd6d2a",
      "metadata": {
        "colab": {
          "base_uri": "https://localhost:8080/"
        },
        "id": "56fd6d2a",
        "outputId": "67ea27cc-e669-4e07-d12a-8a67d8a3ed6c"
      },
      "outputs": [
        {
          "output_type": "execute_result",
          "data": {
            "text/plain": [
              "34.2"
            ]
          },
          "metadata": {},
          "execution_count": 96
        }
      ],
      "source": [
        "(sum(virat_cricket_score))/len(virat_cricket_score)"
      ]
    },
    {
      "cell_type": "code",
      "execution_count": null,
      "id": "2bdeb0f6",
      "metadata": {
        "colab": {
          "base_uri": "https://localhost:8080/"
        },
        "id": "2bdeb0f6",
        "outputId": "ba2bdca4-d0de-4158-e700-39ca756b54b6"
      },
      "outputs": [
        {
          "output_type": "execute_result",
          "data": {
            "text/plain": [
              "34.2"
            ]
          },
          "metadata": {},
          "execution_count": 97
        }
      ],
      "source": [
        "np.mean(virat_cricket_score)"
      ]
    },
    {
      "cell_type": "code",
      "execution_count": null,
      "id": "c9f9a25d",
      "metadata": {
        "id": "c9f9a25d"
      },
      "outputs": [],
      "source": [
        "import scipy\n",
        "result=scipy.stats.ttest_1samp(my_cricket_score,15)"
      ]
    },
    {
      "cell_type": "code",
      "execution_count": null,
      "id": "033d4805",
      "metadata": {
        "colab": {
          "base_uri": "https://localhost:8080/"
        },
        "id": "033d4805",
        "outputId": "82abb451-90af-493a-8a65-2be2fe827cf0"
      },
      "outputs": [
        {
          "output_type": "execute_result",
          "data": {
            "text/plain": [
              "0.0005939030580482863"
            ]
          },
          "metadata": {},
          "execution_count": 99
        }
      ],
      "source": [
        "result[1]"
      ]
    },
    {
      "cell_type": "code",
      "execution_count": null,
      "id": "deb62d99",
      "metadata": {
        "colab": {
          "base_uri": "https://localhost:8080/"
        },
        "id": "deb62d99",
        "outputId": "e35606b5-a8e0-4253-d2f6-4b3541bef39a"
      },
      "outputs": [
        {
          "output_type": "execute_result",
          "data": {
            "text/plain": [
              "True"
            ]
          },
          "metadata": {},
          "execution_count": 100
        }
      ],
      "source": [
        "# we are going to reject the null hyphothesis\n",
        "p_value<=0.05"
      ]
    },
    {
      "cell_type": "code",
      "execution_count": null,
      "id": "00f6ec44",
      "metadata": {
        "colab": {
          "base_uri": "https://localhost:8080/"
        },
        "id": "00f6ec44",
        "outputId": "e746b39f-e0a0-4af8-9251-c994a0a8187c"
      },
      "outputs": [
        {
          "output_type": "execute_result",
          "data": {
            "text/plain": [
              "False"
            ]
          },
          "metadata": {},
          "execution_count": 101
        }
      ],
      "source": [
        "#if P_value we are going to accept the null hyphgothesis\n",
        "p_value>0.05"
      ]
    },
    {
      "cell_type": "code",
      "execution_count": null,
      "id": "8744b02a",
      "metadata": {
        "colab": {
          "base_uri": "https://localhost:8080/"
        },
        "id": "8744b02a",
        "outputId": "c6b63398-82e6-4944-db3d-e910bda6ab21"
      },
      "outputs": [
        {
          "output_type": "execute_result",
          "data": {
            "text/plain": [
              "TtestResult(statistic=0.11652110620241571, pvalue=0.9084623785416333, df=19)"
            ]
          },
          "metadata": {},
          "execution_count": 102
        }
      ],
      "source": [
        "scipy.stats.ttest_1samp(my_cricket_score,27)"
      ]
    },
    {
      "cell_type": "code",
      "execution_count": null,
      "id": "70dc8250",
      "metadata": {
        "id": "70dc8250"
      },
      "outputs": [],
      "source": [
        "#two-sample t test(with respect to two independent sample)\n",
        "my_cricket_score=[22, 38, 19, 15, 48, 11, 10, 49, 47, 38, 10, 25, 46, 10, 21, 24, 29,36, 25, 24]\n",
        "\n",
        "virat_cricket_score=[33, 45, 23, 25, 46, 46, 46, 49, 49, 44, 44, 49, 25, 31, 25, 40, 30,20, 42, 37]\n"
      ]
    },
    {
      "cell_type": "code",
      "execution_count": null,
      "id": "b4267228",
      "metadata": {
        "id": "b4267228"
      },
      "outputs": [],
      "source": [
        "first_sample_mean=np.mean(my_cricket_score)\n",
        "second_sample_mean=np.mean(virat_cricket_score)"
      ]
    },
    {
      "cell_type": "code",
      "execution_count": null,
      "id": "3c75701e",
      "metadata": {
        "colab": {
          "base_uri": "https://localhost:8080/"
        },
        "id": "3c75701e",
        "outputId": "bcd164e4-5e55-4579-fd72-65044d153e70"
      },
      "outputs": [
        {
          "output_type": "stream",
          "name": "stdout",
          "text": [
            "27.35\n",
            "37.45\n"
          ]
        }
      ],
      "source": [
        "print(first_sample_mean)\n",
        "print(second_sample_mean)"
      ]
    },
    {
      "cell_type": "code",
      "execution_count": null,
      "id": "50148882",
      "metadata": {
        "id": "50148882"
      },
      "outputs": [],
      "source": [
        "# my_null_hyphothsis=both sample mean will be same"
      ]
    },
    {
      "cell_type": "code",
      "execution_count": null,
      "id": "c77c06df",
      "metadata": {
        "colab": {
          "base_uri": "https://localhost:8080/"
        },
        "id": "c77c06df",
        "outputId": "bb1b3ba4-4a65-4afe-fbd1-8d68aec0d019"
      },
      "outputs": [
        {
          "output_type": "execute_result",
          "data": {
            "text/plain": [
              "Ttest_indResult(statistic=-2.7009890879565885, pvalue=0.010269464981935)"
            ]
          },
          "metadata": {},
          "execution_count": 107
        }
      ],
      "source": [
        "scipy.stats.ttest_ind(my_cricket_score,virat_cricket_score)"
      ]
    },
    {
      "cell_type": "code",
      "execution_count": null,
      "id": "381dd08f",
      "metadata": {
        "colab": {
          "base_uri": "https://localhost:8080/"
        },
        "id": "381dd08f",
        "outputId": "dddc5163-8e62-4333-8289-001794b97952"
      },
      "outputs": [
        {
          "output_type": "execute_result",
          "data": {
            "text/plain": [
              "False"
            ]
          },
          "metadata": {},
          "execution_count": 108
        }
      ],
      "source": [
        "# we are going to reject the null hyphothesis\n",
        "p_value<=0.05\n",
        "#if P_value we are going to accept the null hyphgothesis\n",
        "p_value>0.05"
      ]
    },
    {
      "cell_type": "code",
      "execution_count": null,
      "id": "8bdf840b",
      "metadata": {
        "id": "8bdf840b"
      },
      "outputs": [],
      "source": [
        "#paired t-test(two sample from the sample population on different time interval)\n",
        "my_cricket_score_from_first_inning=[22, 38, 19, 15, 48, 11, 10, 49, 47, 38, 10, 25, 46, 10, 21, 24, 29,36, 25, 24]\n",
        "my_cricket_score_from_second_inning=[22, 38, 29, 15, 18, 11, 10, 49, 47, 38, 50, 45, 46, 40, 21, 24, 29,16, 25, 24]\n"
      ]
    },
    {
      "cell_type": "code",
      "execution_count": null,
      "id": "f228eb82",
      "metadata": {
        "colab": {
          "base_uri": "https://localhost:8080/"
        },
        "id": "f228eb82",
        "outputId": "94307f4e-9876-4905-a104-9ecf737cc3ef"
      },
      "outputs": [
        {
          "output_type": "stream",
          "name": "stdout",
          "text": [
            "27.35\n",
            "29.85\n"
          ]
        }
      ],
      "source": [
        "print(np.mean(my_cricket_score_from_first_inning))\n",
        "print(np.mean(my_cricket_score_from_second_inning))"
      ]
    },
    {
      "cell_type": "code",
      "execution_count": null,
      "id": "1cf068d2",
      "metadata": {
        "colab": {
          "base_uri": "https://localhost:8080/"
        },
        "id": "1cf068d2",
        "outputId": "7eff4b0d-5fec-4e5d-a3a3-e7a5b30137a5"
      },
      "outputs": [
        {
          "output_type": "execute_result",
          "data": {
            "text/plain": [
              "TtestResult(statistic=-0.7542295906745516, pvalue=0.45995773816634733, df=19)"
            ]
          },
          "metadata": {},
          "execution_count": 111
        }
      ],
      "source": [
        "scipy.stats.ttest_rel(my_cricket_score_from_first_inning,my_cricket_score_from_second_inning)"
      ]
    },
    {
      "cell_type": "markdown",
      "id": "5b620d51",
      "metadata": {
        "id": "5b620d51"
      },
      "source": [
        "# CHI -SQURE TEST"
      ]
    },
    {
      "cell_type": "code",
      "execution_count": null,
      "id": "018a2502",
      "metadata": {
        "id": "018a2502"
      },
      "outputs": [],
      "source": [
        "import seaborn as sns\n",
        "dataset=sns.load_dataset('tips')"
      ]
    },
    {
      "cell_type": "code",
      "execution_count": null,
      "id": "499bbe1e",
      "metadata": {
        "colab": {
          "base_uri": "https://localhost:8080/",
          "height": 424
        },
        "id": "499bbe1e",
        "outputId": "b4c03944-9c9a-4a31-a1e7-e7835d114a21"
      },
      "outputs": [
        {
          "output_type": "execute_result",
          "data": {
            "text/plain": [
              "     total_bill   tip     sex smoker   day    time  size\n",
              "0         16.99  1.01  Female     No   Sun  Dinner     2\n",
              "1         10.34  1.66    Male     No   Sun  Dinner     3\n",
              "2         21.01  3.50    Male     No   Sun  Dinner     3\n",
              "3         23.68  3.31    Male     No   Sun  Dinner     2\n",
              "4         24.59  3.61  Female     No   Sun  Dinner     4\n",
              "..          ...   ...     ...    ...   ...     ...   ...\n",
              "239       29.03  5.92    Male     No   Sat  Dinner     3\n",
              "240       27.18  2.00  Female    Yes   Sat  Dinner     2\n",
              "241       22.67  2.00    Male    Yes   Sat  Dinner     2\n",
              "242       17.82  1.75    Male     No   Sat  Dinner     2\n",
              "243       18.78  3.00  Female     No  Thur  Dinner     2\n",
              "\n",
              "[244 rows x 7 columns]"
            ],
            "text/html": [
              "\n",
              "\n",
              "  <div id=\"df-60fe226b-a7de-43c0-bdeb-253863b14fa1\">\n",
              "    <div class=\"colab-df-container\">\n",
              "      <div>\n",
              "<style scoped>\n",
              "    .dataframe tbody tr th:only-of-type {\n",
              "        vertical-align: middle;\n",
              "    }\n",
              "\n",
              "    .dataframe tbody tr th {\n",
              "        vertical-align: top;\n",
              "    }\n",
              "\n",
              "    .dataframe thead th {\n",
              "        text-align: right;\n",
              "    }\n",
              "</style>\n",
              "<table border=\"1\" class=\"dataframe\">\n",
              "  <thead>\n",
              "    <tr style=\"text-align: right;\">\n",
              "      <th></th>\n",
              "      <th>total_bill</th>\n",
              "      <th>tip</th>\n",
              "      <th>sex</th>\n",
              "      <th>smoker</th>\n",
              "      <th>day</th>\n",
              "      <th>time</th>\n",
              "      <th>size</th>\n",
              "    </tr>\n",
              "  </thead>\n",
              "  <tbody>\n",
              "    <tr>\n",
              "      <th>0</th>\n",
              "      <td>16.99</td>\n",
              "      <td>1.01</td>\n",
              "      <td>Female</td>\n",
              "      <td>No</td>\n",
              "      <td>Sun</td>\n",
              "      <td>Dinner</td>\n",
              "      <td>2</td>\n",
              "    </tr>\n",
              "    <tr>\n",
              "      <th>1</th>\n",
              "      <td>10.34</td>\n",
              "      <td>1.66</td>\n",
              "      <td>Male</td>\n",
              "      <td>No</td>\n",
              "      <td>Sun</td>\n",
              "      <td>Dinner</td>\n",
              "      <td>3</td>\n",
              "    </tr>\n",
              "    <tr>\n",
              "      <th>2</th>\n",
              "      <td>21.01</td>\n",
              "      <td>3.50</td>\n",
              "      <td>Male</td>\n",
              "      <td>No</td>\n",
              "      <td>Sun</td>\n",
              "      <td>Dinner</td>\n",
              "      <td>3</td>\n",
              "    </tr>\n",
              "    <tr>\n",
              "      <th>3</th>\n",
              "      <td>23.68</td>\n",
              "      <td>3.31</td>\n",
              "      <td>Male</td>\n",
              "      <td>No</td>\n",
              "      <td>Sun</td>\n",
              "      <td>Dinner</td>\n",
              "      <td>2</td>\n",
              "    </tr>\n",
              "    <tr>\n",
              "      <th>4</th>\n",
              "      <td>24.59</td>\n",
              "      <td>3.61</td>\n",
              "      <td>Female</td>\n",
              "      <td>No</td>\n",
              "      <td>Sun</td>\n",
              "      <td>Dinner</td>\n",
              "      <td>4</td>\n",
              "    </tr>\n",
              "    <tr>\n",
              "      <th>...</th>\n",
              "      <td>...</td>\n",
              "      <td>...</td>\n",
              "      <td>...</td>\n",
              "      <td>...</td>\n",
              "      <td>...</td>\n",
              "      <td>...</td>\n",
              "      <td>...</td>\n",
              "    </tr>\n",
              "    <tr>\n",
              "      <th>239</th>\n",
              "      <td>29.03</td>\n",
              "      <td>5.92</td>\n",
              "      <td>Male</td>\n",
              "      <td>No</td>\n",
              "      <td>Sat</td>\n",
              "      <td>Dinner</td>\n",
              "      <td>3</td>\n",
              "    </tr>\n",
              "    <tr>\n",
              "      <th>240</th>\n",
              "      <td>27.18</td>\n",
              "      <td>2.00</td>\n",
              "      <td>Female</td>\n",
              "      <td>Yes</td>\n",
              "      <td>Sat</td>\n",
              "      <td>Dinner</td>\n",
              "      <td>2</td>\n",
              "    </tr>\n",
              "    <tr>\n",
              "      <th>241</th>\n",
              "      <td>22.67</td>\n",
              "      <td>2.00</td>\n",
              "      <td>Male</td>\n",
              "      <td>Yes</td>\n",
              "      <td>Sat</td>\n",
              "      <td>Dinner</td>\n",
              "      <td>2</td>\n",
              "    </tr>\n",
              "    <tr>\n",
              "      <th>242</th>\n",
              "      <td>17.82</td>\n",
              "      <td>1.75</td>\n",
              "      <td>Male</td>\n",
              "      <td>No</td>\n",
              "      <td>Sat</td>\n",
              "      <td>Dinner</td>\n",
              "      <td>2</td>\n",
              "    </tr>\n",
              "    <tr>\n",
              "      <th>243</th>\n",
              "      <td>18.78</td>\n",
              "      <td>3.00</td>\n",
              "      <td>Female</td>\n",
              "      <td>No</td>\n",
              "      <td>Thur</td>\n",
              "      <td>Dinner</td>\n",
              "      <td>2</td>\n",
              "    </tr>\n",
              "  </tbody>\n",
              "</table>\n",
              "<p>244 rows × 7 columns</p>\n",
              "</div>\n",
              "      <button class=\"colab-df-convert\" onclick=\"convertToInteractive('df-60fe226b-a7de-43c0-bdeb-253863b14fa1')\"\n",
              "              title=\"Convert this dataframe to an interactive table.\"\n",
              "              style=\"display:none;\">\n",
              "\n",
              "  <svg xmlns=\"http://www.w3.org/2000/svg\" height=\"24px\"viewBox=\"0 0 24 24\"\n",
              "       width=\"24px\">\n",
              "    <path d=\"M0 0h24v24H0V0z\" fill=\"none\"/>\n",
              "    <path d=\"M18.56 5.44l.94 2.06.94-2.06 2.06-.94-2.06-.94-.94-2.06-.94 2.06-2.06.94zm-11 1L8.5 8.5l.94-2.06 2.06-.94-2.06-.94L8.5 2.5l-.94 2.06-2.06.94zm10 10l.94 2.06.94-2.06 2.06-.94-2.06-.94-.94-2.06-.94 2.06-2.06.94z\"/><path d=\"M17.41 7.96l-1.37-1.37c-.4-.4-.92-.59-1.43-.59-.52 0-1.04.2-1.43.59L10.3 9.45l-7.72 7.72c-.78.78-.78 2.05 0 2.83L4 21.41c.39.39.9.59 1.41.59.51 0 1.02-.2 1.41-.59l7.78-7.78 2.81-2.81c.8-.78.8-2.07 0-2.86zM5.41 20L4 18.59l7.72-7.72 1.47 1.35L5.41 20z\"/>\n",
              "  </svg>\n",
              "      </button>\n",
              "\n",
              "\n",
              "\n",
              "    <div id=\"df-cb6586a9-2c70-45b5-ac42-4b80e6da6547\">\n",
              "      <button class=\"colab-df-quickchart\" onclick=\"quickchart('df-cb6586a9-2c70-45b5-ac42-4b80e6da6547')\"\n",
              "              title=\"Suggest charts.\"\n",
              "              style=\"display:none;\">\n",
              "\n",
              "<svg xmlns=\"http://www.w3.org/2000/svg\" height=\"24px\"viewBox=\"0 0 24 24\"\n",
              "     width=\"24px\">\n",
              "    <g>\n",
              "        <path d=\"M19 3H5c-1.1 0-2 .9-2 2v14c0 1.1.9 2 2 2h14c1.1 0 2-.9 2-2V5c0-1.1-.9-2-2-2zM9 17H7v-7h2v7zm4 0h-2V7h2v10zm4 0h-2v-4h2v4z\"/>\n",
              "    </g>\n",
              "</svg>\n",
              "      </button>\n",
              "    </div>\n",
              "\n",
              "<style>\n",
              "  .colab-df-quickchart {\n",
              "    background-color: #E8F0FE;\n",
              "    border: none;\n",
              "    border-radius: 50%;\n",
              "    cursor: pointer;\n",
              "    display: none;\n",
              "    fill: #1967D2;\n",
              "    height: 32px;\n",
              "    padding: 0 0 0 0;\n",
              "    width: 32px;\n",
              "  }\n",
              "\n",
              "  .colab-df-quickchart:hover {\n",
              "    background-color: #E2EBFA;\n",
              "    box-shadow: 0px 1px 2px rgba(60, 64, 67, 0.3), 0px 1px 3px 1px rgba(60, 64, 67, 0.15);\n",
              "    fill: #174EA6;\n",
              "  }\n",
              "\n",
              "  [theme=dark] .colab-df-quickchart {\n",
              "    background-color: #3B4455;\n",
              "    fill: #D2E3FC;\n",
              "  }\n",
              "\n",
              "  [theme=dark] .colab-df-quickchart:hover {\n",
              "    background-color: #434B5C;\n",
              "    box-shadow: 0px 1px 3px 1px rgba(0, 0, 0, 0.15);\n",
              "    filter: drop-shadow(0px 1px 2px rgba(0, 0, 0, 0.3));\n",
              "    fill: #FFFFFF;\n",
              "  }\n",
              "</style>\n",
              "\n",
              "    <script>\n",
              "      async function quickchart(key) {\n",
              "        const containerElement = document.querySelector('#' + key);\n",
              "        const charts = await google.colab.kernel.invokeFunction(\n",
              "            'suggestCharts', [key], {});\n",
              "      }\n",
              "    </script>\n",
              "\n",
              "      <script>\n",
              "\n",
              "function displayQuickchartButton(domScope) {\n",
              "  let quickchartButtonEl =\n",
              "    domScope.querySelector('#df-cb6586a9-2c70-45b5-ac42-4b80e6da6547 button.colab-df-quickchart');\n",
              "  quickchartButtonEl.style.display =\n",
              "    google.colab.kernel.accessAllowed ? 'block' : 'none';\n",
              "}\n",
              "\n",
              "        displayQuickchartButton(document);\n",
              "      </script>\n",
              "      <style>\n",
              "    .colab-df-container {\n",
              "      display:flex;\n",
              "      flex-wrap:wrap;\n",
              "      gap: 12px;\n",
              "    }\n",
              "\n",
              "    .colab-df-convert {\n",
              "      background-color: #E8F0FE;\n",
              "      border: none;\n",
              "      border-radius: 50%;\n",
              "      cursor: pointer;\n",
              "      display: none;\n",
              "      fill: #1967D2;\n",
              "      height: 32px;\n",
              "      padding: 0 0 0 0;\n",
              "      width: 32px;\n",
              "    }\n",
              "\n",
              "    .colab-df-convert:hover {\n",
              "      background-color: #E2EBFA;\n",
              "      box-shadow: 0px 1px 2px rgba(60, 64, 67, 0.3), 0px 1px 3px 1px rgba(60, 64, 67, 0.15);\n",
              "      fill: #174EA6;\n",
              "    }\n",
              "\n",
              "    [theme=dark] .colab-df-convert {\n",
              "      background-color: #3B4455;\n",
              "      fill: #D2E3FC;\n",
              "    }\n",
              "\n",
              "    [theme=dark] .colab-df-convert:hover {\n",
              "      background-color: #434B5C;\n",
              "      box-shadow: 0px 1px 3px 1px rgba(0, 0, 0, 0.15);\n",
              "      filter: drop-shadow(0px 1px 2px rgba(0, 0, 0, 0.3));\n",
              "      fill: #FFFFFF;\n",
              "    }\n",
              "  </style>\n",
              "\n",
              "      <script>\n",
              "        const buttonEl =\n",
              "          document.querySelector('#df-60fe226b-a7de-43c0-bdeb-253863b14fa1 button.colab-df-convert');\n",
              "        buttonEl.style.display =\n",
              "          google.colab.kernel.accessAllowed ? 'block' : 'none';\n",
              "\n",
              "        async function convertToInteractive(key) {\n",
              "          const element = document.querySelector('#df-60fe226b-a7de-43c0-bdeb-253863b14fa1');\n",
              "          const dataTable =\n",
              "            await google.colab.kernel.invokeFunction('convertToInteractive',\n",
              "                                                     [key], {});\n",
              "          if (!dataTable) return;\n",
              "\n",
              "          const docLinkHtml = 'Like what you see? Visit the ' +\n",
              "            '<a target=\"_blank\" href=https://colab.research.google.com/notebooks/data_table.ipynb>data table notebook</a>'\n",
              "            + ' to learn more about interactive tables.';\n",
              "          element.innerHTML = '';\n",
              "          dataTable['output_type'] = 'display_data';\n",
              "          await google.colab.output.renderOutput(dataTable, element);\n",
              "          const docLink = document.createElement('div');\n",
              "          docLink.innerHTML = docLinkHtml;\n",
              "          element.appendChild(docLink);\n",
              "        }\n",
              "      </script>\n",
              "    </div>\n",
              "  </div>\n"
            ]
          },
          "metadata": {},
          "execution_count": 113
        }
      ],
      "source": [
        "dataset"
      ]
    },
    {
      "cell_type": "code",
      "execution_count": null,
      "id": "39796287",
      "metadata": {
        "colab": {
          "base_uri": "https://localhost:8080/"
        },
        "id": "39796287",
        "outputId": "fceb570d-892e-4aa9-9fb6-97f0f09a2070"
      },
      "outputs": [
        {
          "output_type": "stream",
          "name": "stdout",
          "text": [
            "<class 'pandas.core.frame.DataFrame'>\n",
            "RangeIndex: 244 entries, 0 to 243\n",
            "Data columns (total 7 columns):\n",
            " #   Column      Non-Null Count  Dtype   \n",
            "---  ------      --------------  -----   \n",
            " 0   total_bill  244 non-null    float64 \n",
            " 1   tip         244 non-null    float64 \n",
            " 2   sex         244 non-null    category\n",
            " 3   smoker      244 non-null    category\n",
            " 4   day         244 non-null    category\n",
            " 5   time        244 non-null    category\n",
            " 6   size        244 non-null    int64   \n",
            "dtypes: category(4), float64(2), int64(1)\n",
            "memory usage: 7.4 KB\n"
          ]
        }
      ],
      "source": [
        "dataset.info()"
      ]
    },
    {
      "cell_type": "code",
      "execution_count": null,
      "id": "51a2440f",
      "metadata": {
        "colab": {
          "base_uri": "https://localhost:8080/"
        },
        "id": "51a2440f",
        "outputId": "0bbe7f74-3bae-4059-cbb6-7b3668842f3e"
      },
      "outputs": [
        {
          "output_type": "execute_result",
          "data": {
            "text/plain": [
              "Index(['total_bill', 'tip', 'sex', 'smoker', 'day', 'time', 'size'], dtype='object')"
            ]
          },
          "metadata": {},
          "execution_count": 115
        }
      ],
      "source": [
        "dataset.columns"
      ]
    },
    {
      "cell_type": "code",
      "execution_count": null,
      "id": "86c864fa",
      "metadata": {
        "colab": {
          "base_uri": "https://localhost:8080/",
          "height": 424
        },
        "id": "86c864fa",
        "outputId": "9339783a-8951-4264-991a-597d421bc68f"
      },
      "outputs": [
        {
          "output_type": "execute_result",
          "data": {
            "text/plain": [
              "        sex smoker\n",
              "0    Female     No\n",
              "1      Male     No\n",
              "2      Male     No\n",
              "3      Male     No\n",
              "4    Female     No\n",
              "..      ...    ...\n",
              "239    Male     No\n",
              "240  Female    Yes\n",
              "241    Male    Yes\n",
              "242    Male     No\n",
              "243  Female     No\n",
              "\n",
              "[244 rows x 2 columns]"
            ],
            "text/html": [
              "\n",
              "\n",
              "  <div id=\"df-42292c0d-d3e2-47ac-86fa-53a09381049b\">\n",
              "    <div class=\"colab-df-container\">\n",
              "      <div>\n",
              "<style scoped>\n",
              "    .dataframe tbody tr th:only-of-type {\n",
              "        vertical-align: middle;\n",
              "    }\n",
              "\n",
              "    .dataframe tbody tr th {\n",
              "        vertical-align: top;\n",
              "    }\n",
              "\n",
              "    .dataframe thead th {\n",
              "        text-align: right;\n",
              "    }\n",
              "</style>\n",
              "<table border=\"1\" class=\"dataframe\">\n",
              "  <thead>\n",
              "    <tr style=\"text-align: right;\">\n",
              "      <th></th>\n",
              "      <th>sex</th>\n",
              "      <th>smoker</th>\n",
              "    </tr>\n",
              "  </thead>\n",
              "  <tbody>\n",
              "    <tr>\n",
              "      <th>0</th>\n",
              "      <td>Female</td>\n",
              "      <td>No</td>\n",
              "    </tr>\n",
              "    <tr>\n",
              "      <th>1</th>\n",
              "      <td>Male</td>\n",
              "      <td>No</td>\n",
              "    </tr>\n",
              "    <tr>\n",
              "      <th>2</th>\n",
              "      <td>Male</td>\n",
              "      <td>No</td>\n",
              "    </tr>\n",
              "    <tr>\n",
              "      <th>3</th>\n",
              "      <td>Male</td>\n",
              "      <td>No</td>\n",
              "    </tr>\n",
              "    <tr>\n",
              "      <th>4</th>\n",
              "      <td>Female</td>\n",
              "      <td>No</td>\n",
              "    </tr>\n",
              "    <tr>\n",
              "      <th>...</th>\n",
              "      <td>...</td>\n",
              "      <td>...</td>\n",
              "    </tr>\n",
              "    <tr>\n",
              "      <th>239</th>\n",
              "      <td>Male</td>\n",
              "      <td>No</td>\n",
              "    </tr>\n",
              "    <tr>\n",
              "      <th>240</th>\n",
              "      <td>Female</td>\n",
              "      <td>Yes</td>\n",
              "    </tr>\n",
              "    <tr>\n",
              "      <th>241</th>\n",
              "      <td>Male</td>\n",
              "      <td>Yes</td>\n",
              "    </tr>\n",
              "    <tr>\n",
              "      <th>242</th>\n",
              "      <td>Male</td>\n",
              "      <td>No</td>\n",
              "    </tr>\n",
              "    <tr>\n",
              "      <th>243</th>\n",
              "      <td>Female</td>\n",
              "      <td>No</td>\n",
              "    </tr>\n",
              "  </tbody>\n",
              "</table>\n",
              "<p>244 rows × 2 columns</p>\n",
              "</div>\n",
              "      <button class=\"colab-df-convert\" onclick=\"convertToInteractive('df-42292c0d-d3e2-47ac-86fa-53a09381049b')\"\n",
              "              title=\"Convert this dataframe to an interactive table.\"\n",
              "              style=\"display:none;\">\n",
              "\n",
              "  <svg xmlns=\"http://www.w3.org/2000/svg\" height=\"24px\"viewBox=\"0 0 24 24\"\n",
              "       width=\"24px\">\n",
              "    <path d=\"M0 0h24v24H0V0z\" fill=\"none\"/>\n",
              "    <path d=\"M18.56 5.44l.94 2.06.94-2.06 2.06-.94-2.06-.94-.94-2.06-.94 2.06-2.06.94zm-11 1L8.5 8.5l.94-2.06 2.06-.94-2.06-.94L8.5 2.5l-.94 2.06-2.06.94zm10 10l.94 2.06.94-2.06 2.06-.94-2.06-.94-.94-2.06-.94 2.06-2.06.94z\"/><path d=\"M17.41 7.96l-1.37-1.37c-.4-.4-.92-.59-1.43-.59-.52 0-1.04.2-1.43.59L10.3 9.45l-7.72 7.72c-.78.78-.78 2.05 0 2.83L4 21.41c.39.39.9.59 1.41.59.51 0 1.02-.2 1.41-.59l7.78-7.78 2.81-2.81c.8-.78.8-2.07 0-2.86zM5.41 20L4 18.59l7.72-7.72 1.47 1.35L5.41 20z\"/>\n",
              "  </svg>\n",
              "      </button>\n",
              "\n",
              "\n",
              "\n",
              "    <div id=\"df-a804fc3f-220a-4016-aaa6-e6f17fcd059d\">\n",
              "      <button class=\"colab-df-quickchart\" onclick=\"quickchart('df-a804fc3f-220a-4016-aaa6-e6f17fcd059d')\"\n",
              "              title=\"Suggest charts.\"\n",
              "              style=\"display:none;\">\n",
              "\n",
              "<svg xmlns=\"http://www.w3.org/2000/svg\" height=\"24px\"viewBox=\"0 0 24 24\"\n",
              "     width=\"24px\">\n",
              "    <g>\n",
              "        <path d=\"M19 3H5c-1.1 0-2 .9-2 2v14c0 1.1.9 2 2 2h14c1.1 0 2-.9 2-2V5c0-1.1-.9-2-2-2zM9 17H7v-7h2v7zm4 0h-2V7h2v10zm4 0h-2v-4h2v4z\"/>\n",
              "    </g>\n",
              "</svg>\n",
              "      </button>\n",
              "    </div>\n",
              "\n",
              "<style>\n",
              "  .colab-df-quickchart {\n",
              "    background-color: #E8F0FE;\n",
              "    border: none;\n",
              "    border-radius: 50%;\n",
              "    cursor: pointer;\n",
              "    display: none;\n",
              "    fill: #1967D2;\n",
              "    height: 32px;\n",
              "    padding: 0 0 0 0;\n",
              "    width: 32px;\n",
              "  }\n",
              "\n",
              "  .colab-df-quickchart:hover {\n",
              "    background-color: #E2EBFA;\n",
              "    box-shadow: 0px 1px 2px rgba(60, 64, 67, 0.3), 0px 1px 3px 1px rgba(60, 64, 67, 0.15);\n",
              "    fill: #174EA6;\n",
              "  }\n",
              "\n",
              "  [theme=dark] .colab-df-quickchart {\n",
              "    background-color: #3B4455;\n",
              "    fill: #D2E3FC;\n",
              "  }\n",
              "\n",
              "  [theme=dark] .colab-df-quickchart:hover {\n",
              "    background-color: #434B5C;\n",
              "    box-shadow: 0px 1px 3px 1px rgba(0, 0, 0, 0.15);\n",
              "    filter: drop-shadow(0px 1px 2px rgba(0, 0, 0, 0.3));\n",
              "    fill: #FFFFFF;\n",
              "  }\n",
              "</style>\n",
              "\n",
              "    <script>\n",
              "      async function quickchart(key) {\n",
              "        const containerElement = document.querySelector('#' + key);\n",
              "        const charts = await google.colab.kernel.invokeFunction(\n",
              "            'suggestCharts', [key], {});\n",
              "      }\n",
              "    </script>\n",
              "\n",
              "      <script>\n",
              "\n",
              "function displayQuickchartButton(domScope) {\n",
              "  let quickchartButtonEl =\n",
              "    domScope.querySelector('#df-a804fc3f-220a-4016-aaa6-e6f17fcd059d button.colab-df-quickchart');\n",
              "  quickchartButtonEl.style.display =\n",
              "    google.colab.kernel.accessAllowed ? 'block' : 'none';\n",
              "}\n",
              "\n",
              "        displayQuickchartButton(document);\n",
              "      </script>\n",
              "      <style>\n",
              "    .colab-df-container {\n",
              "      display:flex;\n",
              "      flex-wrap:wrap;\n",
              "      gap: 12px;\n",
              "    }\n",
              "\n",
              "    .colab-df-convert {\n",
              "      background-color: #E8F0FE;\n",
              "      border: none;\n",
              "      border-radius: 50%;\n",
              "      cursor: pointer;\n",
              "      display: none;\n",
              "      fill: #1967D2;\n",
              "      height: 32px;\n",
              "      padding: 0 0 0 0;\n",
              "      width: 32px;\n",
              "    }\n",
              "\n",
              "    .colab-df-convert:hover {\n",
              "      background-color: #E2EBFA;\n",
              "      box-shadow: 0px 1px 2px rgba(60, 64, 67, 0.3), 0px 1px 3px 1px rgba(60, 64, 67, 0.15);\n",
              "      fill: #174EA6;\n",
              "    }\n",
              "\n",
              "    [theme=dark] .colab-df-convert {\n",
              "      background-color: #3B4455;\n",
              "      fill: #D2E3FC;\n",
              "    }\n",
              "\n",
              "    [theme=dark] .colab-df-convert:hover {\n",
              "      background-color: #434B5C;\n",
              "      box-shadow: 0px 1px 3px 1px rgba(0, 0, 0, 0.15);\n",
              "      filter: drop-shadow(0px 1px 2px rgba(0, 0, 0, 0.3));\n",
              "      fill: #FFFFFF;\n",
              "    }\n",
              "  </style>\n",
              "\n",
              "      <script>\n",
              "        const buttonEl =\n",
              "          document.querySelector('#df-42292c0d-d3e2-47ac-86fa-53a09381049b button.colab-df-convert');\n",
              "        buttonEl.style.display =\n",
              "          google.colab.kernel.accessAllowed ? 'block' : 'none';\n",
              "\n",
              "        async function convertToInteractive(key) {\n",
              "          const element = document.querySelector('#df-42292c0d-d3e2-47ac-86fa-53a09381049b');\n",
              "          const dataTable =\n",
              "            await google.colab.kernel.invokeFunction('convertToInteractive',\n",
              "                                                     [key], {});\n",
              "          if (!dataTable) return;\n",
              "\n",
              "          const docLinkHtml = 'Like what you see? Visit the ' +\n",
              "            '<a target=\"_blank\" href=https://colab.research.google.com/notebooks/data_table.ipynb>data table notebook</a>'\n",
              "            + ' to learn more about interactive tables.';\n",
              "          element.innerHTML = '';\n",
              "          dataTable['output_type'] = 'display_data';\n",
              "          await google.colab.output.renderOutput(dataTable, element);\n",
              "          const docLink = document.createElement('div');\n",
              "          docLink.innerHTML = docLinkHtml;\n",
              "          element.appendChild(docLink);\n",
              "        }\n",
              "      </script>\n",
              "    </div>\n",
              "  </div>\n"
            ]
          },
          "metadata": {},
          "execution_count": 116
        }
      ],
      "source": [
        "dataset[['sex','smoker']]"
      ]
    },
    {
      "cell_type": "code",
      "execution_count": null,
      "id": "1a40f775",
      "metadata": {
        "id": "1a40f775"
      },
      "outputs": [],
      "source": [
        "dataset_table=pd.crosstab(dataset['sex'],dataset['smoker'])"
      ]
    },
    {
      "cell_type": "code",
      "execution_count": null,
      "id": "791bbe82",
      "metadata": {
        "id": "791bbe82"
      },
      "outputs": [],
      "source": [
        "Observed_Values=dataset_table.values"
      ]
    },
    {
      "cell_type": "code",
      "source": [
        "dataset"
      ],
      "metadata": {
        "colab": {
          "base_uri": "https://localhost:8080/",
          "height": 424
        },
        "id": "KvZIXidg5uuF",
        "outputId": "105ac4d7-10f9-4f62-c65c-02aa43981a29"
      },
      "id": "KvZIXidg5uuF",
      "execution_count": null,
      "outputs": [
        {
          "output_type": "execute_result",
          "data": {
            "text/plain": [
              "     total_bill   tip     sex smoker   day    time  size\n",
              "0         16.99  1.01  Female     No   Sun  Dinner     2\n",
              "1         10.34  1.66    Male     No   Sun  Dinner     3\n",
              "2         21.01  3.50    Male     No   Sun  Dinner     3\n",
              "3         23.68  3.31    Male     No   Sun  Dinner     2\n",
              "4         24.59  3.61  Female     No   Sun  Dinner     4\n",
              "..          ...   ...     ...    ...   ...     ...   ...\n",
              "239       29.03  5.92    Male     No   Sat  Dinner     3\n",
              "240       27.18  2.00  Female    Yes   Sat  Dinner     2\n",
              "241       22.67  2.00    Male    Yes   Sat  Dinner     2\n",
              "242       17.82  1.75    Male     No   Sat  Dinner     2\n",
              "243       18.78  3.00  Female     No  Thur  Dinner     2\n",
              "\n",
              "[244 rows x 7 columns]"
            ],
            "text/html": [
              "\n",
              "\n",
              "  <div id=\"df-f2e1d8cd-a3bd-4714-b04f-57b309bd8a83\">\n",
              "    <div class=\"colab-df-container\">\n",
              "      <div>\n",
              "<style scoped>\n",
              "    .dataframe tbody tr th:only-of-type {\n",
              "        vertical-align: middle;\n",
              "    }\n",
              "\n",
              "    .dataframe tbody tr th {\n",
              "        vertical-align: top;\n",
              "    }\n",
              "\n",
              "    .dataframe thead th {\n",
              "        text-align: right;\n",
              "    }\n",
              "</style>\n",
              "<table border=\"1\" class=\"dataframe\">\n",
              "  <thead>\n",
              "    <tr style=\"text-align: right;\">\n",
              "      <th></th>\n",
              "      <th>total_bill</th>\n",
              "      <th>tip</th>\n",
              "      <th>sex</th>\n",
              "      <th>smoker</th>\n",
              "      <th>day</th>\n",
              "      <th>time</th>\n",
              "      <th>size</th>\n",
              "    </tr>\n",
              "  </thead>\n",
              "  <tbody>\n",
              "    <tr>\n",
              "      <th>0</th>\n",
              "      <td>16.99</td>\n",
              "      <td>1.01</td>\n",
              "      <td>Female</td>\n",
              "      <td>No</td>\n",
              "      <td>Sun</td>\n",
              "      <td>Dinner</td>\n",
              "      <td>2</td>\n",
              "    </tr>\n",
              "    <tr>\n",
              "      <th>1</th>\n",
              "      <td>10.34</td>\n",
              "      <td>1.66</td>\n",
              "      <td>Male</td>\n",
              "      <td>No</td>\n",
              "      <td>Sun</td>\n",
              "      <td>Dinner</td>\n",
              "      <td>3</td>\n",
              "    </tr>\n",
              "    <tr>\n",
              "      <th>2</th>\n",
              "      <td>21.01</td>\n",
              "      <td>3.50</td>\n",
              "      <td>Male</td>\n",
              "      <td>No</td>\n",
              "      <td>Sun</td>\n",
              "      <td>Dinner</td>\n",
              "      <td>3</td>\n",
              "    </tr>\n",
              "    <tr>\n",
              "      <th>3</th>\n",
              "      <td>23.68</td>\n",
              "      <td>3.31</td>\n",
              "      <td>Male</td>\n",
              "      <td>No</td>\n",
              "      <td>Sun</td>\n",
              "      <td>Dinner</td>\n",
              "      <td>2</td>\n",
              "    </tr>\n",
              "    <tr>\n",
              "      <th>4</th>\n",
              "      <td>24.59</td>\n",
              "      <td>3.61</td>\n",
              "      <td>Female</td>\n",
              "      <td>No</td>\n",
              "      <td>Sun</td>\n",
              "      <td>Dinner</td>\n",
              "      <td>4</td>\n",
              "    </tr>\n",
              "    <tr>\n",
              "      <th>...</th>\n",
              "      <td>...</td>\n",
              "      <td>...</td>\n",
              "      <td>...</td>\n",
              "      <td>...</td>\n",
              "      <td>...</td>\n",
              "      <td>...</td>\n",
              "      <td>...</td>\n",
              "    </tr>\n",
              "    <tr>\n",
              "      <th>239</th>\n",
              "      <td>29.03</td>\n",
              "      <td>5.92</td>\n",
              "      <td>Male</td>\n",
              "      <td>No</td>\n",
              "      <td>Sat</td>\n",
              "      <td>Dinner</td>\n",
              "      <td>3</td>\n",
              "    </tr>\n",
              "    <tr>\n",
              "      <th>240</th>\n",
              "      <td>27.18</td>\n",
              "      <td>2.00</td>\n",
              "      <td>Female</td>\n",
              "      <td>Yes</td>\n",
              "      <td>Sat</td>\n",
              "      <td>Dinner</td>\n",
              "      <td>2</td>\n",
              "    </tr>\n",
              "    <tr>\n",
              "      <th>241</th>\n",
              "      <td>22.67</td>\n",
              "      <td>2.00</td>\n",
              "      <td>Male</td>\n",
              "      <td>Yes</td>\n",
              "      <td>Sat</td>\n",
              "      <td>Dinner</td>\n",
              "      <td>2</td>\n",
              "    </tr>\n",
              "    <tr>\n",
              "      <th>242</th>\n",
              "      <td>17.82</td>\n",
              "      <td>1.75</td>\n",
              "      <td>Male</td>\n",
              "      <td>No</td>\n",
              "      <td>Sat</td>\n",
              "      <td>Dinner</td>\n",
              "      <td>2</td>\n",
              "    </tr>\n",
              "    <tr>\n",
              "      <th>243</th>\n",
              "      <td>18.78</td>\n",
              "      <td>3.00</td>\n",
              "      <td>Female</td>\n",
              "      <td>No</td>\n",
              "      <td>Thur</td>\n",
              "      <td>Dinner</td>\n",
              "      <td>2</td>\n",
              "    </tr>\n",
              "  </tbody>\n",
              "</table>\n",
              "<p>244 rows × 7 columns</p>\n",
              "</div>\n",
              "      <button class=\"colab-df-convert\" onclick=\"convertToInteractive('df-f2e1d8cd-a3bd-4714-b04f-57b309bd8a83')\"\n",
              "              title=\"Convert this dataframe to an interactive table.\"\n",
              "              style=\"display:none;\">\n",
              "\n",
              "  <svg xmlns=\"http://www.w3.org/2000/svg\" height=\"24px\"viewBox=\"0 0 24 24\"\n",
              "       width=\"24px\">\n",
              "    <path d=\"M0 0h24v24H0V0z\" fill=\"none\"/>\n",
              "    <path d=\"M18.56 5.44l.94 2.06.94-2.06 2.06-.94-2.06-.94-.94-2.06-.94 2.06-2.06.94zm-11 1L8.5 8.5l.94-2.06 2.06-.94-2.06-.94L8.5 2.5l-.94 2.06-2.06.94zm10 10l.94 2.06.94-2.06 2.06-.94-2.06-.94-.94-2.06-.94 2.06-2.06.94z\"/><path d=\"M17.41 7.96l-1.37-1.37c-.4-.4-.92-.59-1.43-.59-.52 0-1.04.2-1.43.59L10.3 9.45l-7.72 7.72c-.78.78-.78 2.05 0 2.83L4 21.41c.39.39.9.59 1.41.59.51 0 1.02-.2 1.41-.59l7.78-7.78 2.81-2.81c.8-.78.8-2.07 0-2.86zM5.41 20L4 18.59l7.72-7.72 1.47 1.35L5.41 20z\"/>\n",
              "  </svg>\n",
              "      </button>\n",
              "\n",
              "\n",
              "\n",
              "    <div id=\"df-96b9f485-4f00-4210-8784-ad9f7febfe81\">\n",
              "      <button class=\"colab-df-quickchart\" onclick=\"quickchart('df-96b9f485-4f00-4210-8784-ad9f7febfe81')\"\n",
              "              title=\"Suggest charts.\"\n",
              "              style=\"display:none;\">\n",
              "\n",
              "<svg xmlns=\"http://www.w3.org/2000/svg\" height=\"24px\"viewBox=\"0 0 24 24\"\n",
              "     width=\"24px\">\n",
              "    <g>\n",
              "        <path d=\"M19 3H5c-1.1 0-2 .9-2 2v14c0 1.1.9 2 2 2h14c1.1 0 2-.9 2-2V5c0-1.1-.9-2-2-2zM9 17H7v-7h2v7zm4 0h-2V7h2v10zm4 0h-2v-4h2v4z\"/>\n",
              "    </g>\n",
              "</svg>\n",
              "      </button>\n",
              "    </div>\n",
              "\n",
              "<style>\n",
              "  .colab-df-quickchart {\n",
              "    background-color: #E8F0FE;\n",
              "    border: none;\n",
              "    border-radius: 50%;\n",
              "    cursor: pointer;\n",
              "    display: none;\n",
              "    fill: #1967D2;\n",
              "    height: 32px;\n",
              "    padding: 0 0 0 0;\n",
              "    width: 32px;\n",
              "  }\n",
              "\n",
              "  .colab-df-quickchart:hover {\n",
              "    background-color: #E2EBFA;\n",
              "    box-shadow: 0px 1px 2px rgba(60, 64, 67, 0.3), 0px 1px 3px 1px rgba(60, 64, 67, 0.15);\n",
              "    fill: #174EA6;\n",
              "  }\n",
              "\n",
              "  [theme=dark] .colab-df-quickchart {\n",
              "    background-color: #3B4455;\n",
              "    fill: #D2E3FC;\n",
              "  }\n",
              "\n",
              "  [theme=dark] .colab-df-quickchart:hover {\n",
              "    background-color: #434B5C;\n",
              "    box-shadow: 0px 1px 3px 1px rgba(0, 0, 0, 0.15);\n",
              "    filter: drop-shadow(0px 1px 2px rgba(0, 0, 0, 0.3));\n",
              "    fill: #FFFFFF;\n",
              "  }\n",
              "</style>\n",
              "\n",
              "    <script>\n",
              "      async function quickchart(key) {\n",
              "        const containerElement = document.querySelector('#' + key);\n",
              "        const charts = await google.colab.kernel.invokeFunction(\n",
              "            'suggestCharts', [key], {});\n",
              "      }\n",
              "    </script>\n",
              "\n",
              "      <script>\n",
              "\n",
              "function displayQuickchartButton(domScope) {\n",
              "  let quickchartButtonEl =\n",
              "    domScope.querySelector('#df-96b9f485-4f00-4210-8784-ad9f7febfe81 button.colab-df-quickchart');\n",
              "  quickchartButtonEl.style.display =\n",
              "    google.colab.kernel.accessAllowed ? 'block' : 'none';\n",
              "}\n",
              "\n",
              "        displayQuickchartButton(document);\n",
              "      </script>\n",
              "      <style>\n",
              "    .colab-df-container {\n",
              "      display:flex;\n",
              "      flex-wrap:wrap;\n",
              "      gap: 12px;\n",
              "    }\n",
              "\n",
              "    .colab-df-convert {\n",
              "      background-color: #E8F0FE;\n",
              "      border: none;\n",
              "      border-radius: 50%;\n",
              "      cursor: pointer;\n",
              "      display: none;\n",
              "      fill: #1967D2;\n",
              "      height: 32px;\n",
              "      padding: 0 0 0 0;\n",
              "      width: 32px;\n",
              "    }\n",
              "\n",
              "    .colab-df-convert:hover {\n",
              "      background-color: #E2EBFA;\n",
              "      box-shadow: 0px 1px 2px rgba(60, 64, 67, 0.3), 0px 1px 3px 1px rgba(60, 64, 67, 0.15);\n",
              "      fill: #174EA6;\n",
              "    }\n",
              "\n",
              "    [theme=dark] .colab-df-convert {\n",
              "      background-color: #3B4455;\n",
              "      fill: #D2E3FC;\n",
              "    }\n",
              "\n",
              "    [theme=dark] .colab-df-convert:hover {\n",
              "      background-color: #434B5C;\n",
              "      box-shadow: 0px 1px 3px 1px rgba(0, 0, 0, 0.15);\n",
              "      filter: drop-shadow(0px 1px 2px rgba(0, 0, 0, 0.3));\n",
              "      fill: #FFFFFF;\n",
              "    }\n",
              "  </style>\n",
              "\n",
              "      <script>\n",
              "        const buttonEl =\n",
              "          document.querySelector('#df-f2e1d8cd-a3bd-4714-b04f-57b309bd8a83 button.colab-df-convert');\n",
              "        buttonEl.style.display =\n",
              "          google.colab.kernel.accessAllowed ? 'block' : 'none';\n",
              "\n",
              "        async function convertToInteractive(key) {\n",
              "          const element = document.querySelector('#df-f2e1d8cd-a3bd-4714-b04f-57b309bd8a83');\n",
              "          const dataTable =\n",
              "            await google.colab.kernel.invokeFunction('convertToInteractive',\n",
              "                                                     [key], {});\n",
              "          if (!dataTable) return;\n",
              "\n",
              "          const docLinkHtml = 'Like what you see? Visit the ' +\n",
              "            '<a target=\"_blank\" href=https://colab.research.google.com/notebooks/data_table.ipynb>data table notebook</a>'\n",
              "            + ' to learn more about interactive tables.';\n",
              "          element.innerHTML = '';\n",
              "          dataTable['output_type'] = 'display_data';\n",
              "          await google.colab.output.renderOutput(dataTable, element);\n",
              "          const docLink = document.createElement('div');\n",
              "          docLink.innerHTML = docLinkHtml;\n",
              "          element.appendChild(docLink);\n",
              "        }\n",
              "      </script>\n",
              "    </div>\n",
              "  </div>\n"
            ]
          },
          "metadata": {},
          "execution_count": 129
        }
      ]
    },
    {
      "cell_type": "code",
      "execution_count": null,
      "id": "76b9334b",
      "metadata": {
        "colab": {
          "base_uri": "https://localhost:8080/",
          "height": 143
        },
        "id": "76b9334b",
        "outputId": "0179bbbf-eadd-4c0a-dd6c-77f887a74020"
      },
      "outputs": [
        {
          "output_type": "execute_result",
          "data": {
            "text/plain": [
              "smoker  Yes  No\n",
              "sex            \n",
              "Male     60  97\n",
              "Female   33  54"
            ],
            "text/html": [
              "\n",
              "\n",
              "  <div id=\"df-2f2f3d0b-fee4-4054-a3fe-6adbc41c97b8\">\n",
              "    <div class=\"colab-df-container\">\n",
              "      <div>\n",
              "<style scoped>\n",
              "    .dataframe tbody tr th:only-of-type {\n",
              "        vertical-align: middle;\n",
              "    }\n",
              "\n",
              "    .dataframe tbody tr th {\n",
              "        vertical-align: top;\n",
              "    }\n",
              "\n",
              "    .dataframe thead th {\n",
              "        text-align: right;\n",
              "    }\n",
              "</style>\n",
              "<table border=\"1\" class=\"dataframe\">\n",
              "  <thead>\n",
              "    <tr style=\"text-align: right;\">\n",
              "      <th>smoker</th>\n",
              "      <th>Yes</th>\n",
              "      <th>No</th>\n",
              "    </tr>\n",
              "    <tr>\n",
              "      <th>sex</th>\n",
              "      <th></th>\n",
              "      <th></th>\n",
              "    </tr>\n",
              "  </thead>\n",
              "  <tbody>\n",
              "    <tr>\n",
              "      <th>Male</th>\n",
              "      <td>60</td>\n",
              "      <td>97</td>\n",
              "    </tr>\n",
              "    <tr>\n",
              "      <th>Female</th>\n",
              "      <td>33</td>\n",
              "      <td>54</td>\n",
              "    </tr>\n",
              "  </tbody>\n",
              "</table>\n",
              "</div>\n",
              "      <button class=\"colab-df-convert\" onclick=\"convertToInteractive('df-2f2f3d0b-fee4-4054-a3fe-6adbc41c97b8')\"\n",
              "              title=\"Convert this dataframe to an interactive table.\"\n",
              "              style=\"display:none;\">\n",
              "\n",
              "  <svg xmlns=\"http://www.w3.org/2000/svg\" height=\"24px\"viewBox=\"0 0 24 24\"\n",
              "       width=\"24px\">\n",
              "    <path d=\"M0 0h24v24H0V0z\" fill=\"none\"/>\n",
              "    <path d=\"M18.56 5.44l.94 2.06.94-2.06 2.06-.94-2.06-.94-.94-2.06-.94 2.06-2.06.94zm-11 1L8.5 8.5l.94-2.06 2.06-.94-2.06-.94L8.5 2.5l-.94 2.06-2.06.94zm10 10l.94 2.06.94-2.06 2.06-.94-2.06-.94-.94-2.06-.94 2.06-2.06.94z\"/><path d=\"M17.41 7.96l-1.37-1.37c-.4-.4-.92-.59-1.43-.59-.52 0-1.04.2-1.43.59L10.3 9.45l-7.72 7.72c-.78.78-.78 2.05 0 2.83L4 21.41c.39.39.9.59 1.41.59.51 0 1.02-.2 1.41-.59l7.78-7.78 2.81-2.81c.8-.78.8-2.07 0-2.86zM5.41 20L4 18.59l7.72-7.72 1.47 1.35L5.41 20z\"/>\n",
              "  </svg>\n",
              "      </button>\n",
              "\n",
              "\n",
              "\n",
              "    <div id=\"df-65055a33-8132-4002-a927-4ed76be09322\">\n",
              "      <button class=\"colab-df-quickchart\" onclick=\"quickchart('df-65055a33-8132-4002-a927-4ed76be09322')\"\n",
              "              title=\"Suggest charts.\"\n",
              "              style=\"display:none;\">\n",
              "\n",
              "<svg xmlns=\"http://www.w3.org/2000/svg\" height=\"24px\"viewBox=\"0 0 24 24\"\n",
              "     width=\"24px\">\n",
              "    <g>\n",
              "        <path d=\"M19 3H5c-1.1 0-2 .9-2 2v14c0 1.1.9 2 2 2h14c1.1 0 2-.9 2-2V5c0-1.1-.9-2-2-2zM9 17H7v-7h2v7zm4 0h-2V7h2v10zm4 0h-2v-4h2v4z\"/>\n",
              "    </g>\n",
              "</svg>\n",
              "      </button>\n",
              "    </div>\n",
              "\n",
              "<style>\n",
              "  .colab-df-quickchart {\n",
              "    background-color: #E8F0FE;\n",
              "    border: none;\n",
              "    border-radius: 50%;\n",
              "    cursor: pointer;\n",
              "    display: none;\n",
              "    fill: #1967D2;\n",
              "    height: 32px;\n",
              "    padding: 0 0 0 0;\n",
              "    width: 32px;\n",
              "  }\n",
              "\n",
              "  .colab-df-quickchart:hover {\n",
              "    background-color: #E2EBFA;\n",
              "    box-shadow: 0px 1px 2px rgba(60, 64, 67, 0.3), 0px 1px 3px 1px rgba(60, 64, 67, 0.15);\n",
              "    fill: #174EA6;\n",
              "  }\n",
              "\n",
              "  [theme=dark] .colab-df-quickchart {\n",
              "    background-color: #3B4455;\n",
              "    fill: #D2E3FC;\n",
              "  }\n",
              "\n",
              "  [theme=dark] .colab-df-quickchart:hover {\n",
              "    background-color: #434B5C;\n",
              "    box-shadow: 0px 1px 3px 1px rgba(0, 0, 0, 0.15);\n",
              "    filter: drop-shadow(0px 1px 2px rgba(0, 0, 0, 0.3));\n",
              "    fill: #FFFFFF;\n",
              "  }\n",
              "</style>\n",
              "\n",
              "    <script>\n",
              "      async function quickchart(key) {\n",
              "        const containerElement = document.querySelector('#' + key);\n",
              "        const charts = await google.colab.kernel.invokeFunction(\n",
              "            'suggestCharts', [key], {});\n",
              "      }\n",
              "    </script>\n",
              "\n",
              "      <script>\n",
              "\n",
              "function displayQuickchartButton(domScope) {\n",
              "  let quickchartButtonEl =\n",
              "    domScope.querySelector('#df-65055a33-8132-4002-a927-4ed76be09322 button.colab-df-quickchart');\n",
              "  quickchartButtonEl.style.display =\n",
              "    google.colab.kernel.accessAllowed ? 'block' : 'none';\n",
              "}\n",
              "\n",
              "        displayQuickchartButton(document);\n",
              "      </script>\n",
              "      <style>\n",
              "    .colab-df-container {\n",
              "      display:flex;\n",
              "      flex-wrap:wrap;\n",
              "      gap: 12px;\n",
              "    }\n",
              "\n",
              "    .colab-df-convert {\n",
              "      background-color: #E8F0FE;\n",
              "      border: none;\n",
              "      border-radius: 50%;\n",
              "      cursor: pointer;\n",
              "      display: none;\n",
              "      fill: #1967D2;\n",
              "      height: 32px;\n",
              "      padding: 0 0 0 0;\n",
              "      width: 32px;\n",
              "    }\n",
              "\n",
              "    .colab-df-convert:hover {\n",
              "      background-color: #E2EBFA;\n",
              "      box-shadow: 0px 1px 2px rgba(60, 64, 67, 0.3), 0px 1px 3px 1px rgba(60, 64, 67, 0.15);\n",
              "      fill: #174EA6;\n",
              "    }\n",
              "\n",
              "    [theme=dark] .colab-df-convert {\n",
              "      background-color: #3B4455;\n",
              "      fill: #D2E3FC;\n",
              "    }\n",
              "\n",
              "    [theme=dark] .colab-df-convert:hover {\n",
              "      background-color: #434B5C;\n",
              "      box-shadow: 0px 1px 3px 1px rgba(0, 0, 0, 0.15);\n",
              "      filter: drop-shadow(0px 1px 2px rgba(0, 0, 0, 0.3));\n",
              "      fill: #FFFFFF;\n",
              "    }\n",
              "  </style>\n",
              "\n",
              "      <script>\n",
              "        const buttonEl =\n",
              "          document.querySelector('#df-2f2f3d0b-fee4-4054-a3fe-6adbc41c97b8 button.colab-df-convert');\n",
              "        buttonEl.style.display =\n",
              "          google.colab.kernel.accessAllowed ? 'block' : 'none';\n",
              "\n",
              "        async function convertToInteractive(key) {\n",
              "          const element = document.querySelector('#df-2f2f3d0b-fee4-4054-a3fe-6adbc41c97b8');\n",
              "          const dataTable =\n",
              "            await google.colab.kernel.invokeFunction('convertToInteractive',\n",
              "                                                     [key], {});\n",
              "          if (!dataTable) return;\n",
              "\n",
              "          const docLinkHtml = 'Like what you see? Visit the ' +\n",
              "            '<a target=\"_blank\" href=https://colab.research.google.com/notebooks/data_table.ipynb>data table notebook</a>'\n",
              "            + ' to learn more about interactive tables.';\n",
              "          element.innerHTML = '';\n",
              "          dataTable['output_type'] = 'display_data';\n",
              "          await google.colab.output.renderOutput(dataTable, element);\n",
              "          const docLink = document.createElement('div');\n",
              "          docLink.innerHTML = docLinkHtml;\n",
              "          element.appendChild(docLink);\n",
              "        }\n",
              "      </script>\n",
              "    </div>\n",
              "  </div>\n"
            ]
          },
          "metadata": {},
          "execution_count": 154
        }
      ],
      "source": [
        "dataset_table"
      ]
    },
    {
      "cell_type": "code",
      "execution_count": null,
      "id": "0957098c",
      "metadata": {
        "colab": {
          "base_uri": "https://localhost:8080/"
        },
        "id": "0957098c",
        "outputId": "2dc5e70e-98f5-4a1c-bf9e-a3ef3ef53b7a"
      },
      "outputs": [
        {
          "output_type": "stream",
          "name": "stdout",
          "text": [
            "observed value(real value) \n",
            " smoker  Yes  No\n",
            "sex            \n",
            "Male     60  97\n",
            "Female   33  54\n"
          ]
        }
      ],
      "source": [
        "print(f\"observed value(real value) \\n {dataset_table}\")"
      ]
    },
    {
      "cell_type": "code",
      "execution_count": null,
      "id": "28b9180f",
      "metadata": {
        "id": "28b9180f"
      },
      "outputs": [],
      "source": [
        "import scipy.stats as stats"
      ]
    },
    {
      "cell_type": "code",
      "execution_count": null,
      "id": "29d85e39",
      "metadata": {
        "id": "29d85e39"
      },
      "outputs": [],
      "source": [
        "stats_test,p,dof,Expected_Values=stats.chi2_contingency(dataset_table)"
      ]
    },
    {
      "cell_type": "code",
      "execution_count": null,
      "id": "075036b9",
      "metadata": {
        "colab": {
          "base_uri": "https://localhost:8080/"
        },
        "id": "075036b9",
        "outputId": "e166f4e8-4d37-42cb-bcc1-698d1fd33b0e"
      },
      "outputs": [
        {
          "output_type": "execute_result",
          "data": {
            "text/plain": [
              "1.0"
            ]
          },
          "metadata": {},
          "execution_count": 133
        }
      ],
      "source": [
        "p"
      ]
    },
    {
      "cell_type": "code",
      "execution_count": null,
      "id": "929b5e40",
      "metadata": {
        "colab": {
          "base_uri": "https://localhost:8080/"
        },
        "id": "929b5e40",
        "outputId": "0b82cbf7-aed3-471e-f3fb-78aef711855e"
      },
      "outputs": [
        {
          "output_type": "stream",
          "name": "stdout",
          "text": [
            "observed value(real value) \n",
            " smoker  Yes  No\n",
            "sex            \n",
            "Male     60  97\n",
            "Female   33  54\n"
          ]
        }
      ],
      "source": [
        "print(f\"observed value(real value) \\n {dataset_table}\")"
      ]
    },
    {
      "cell_type": "code",
      "execution_count": null,
      "id": "470361bf",
      "metadata": {
        "colab": {
          "base_uri": "https://localhost:8080/"
        },
        "id": "470361bf",
        "outputId": "b5a9c82a-3917-418c-f4ce-311f63424e2b"
      },
      "outputs": [
        {
          "output_type": "execute_result",
          "data": {
            "text/plain": [
              "array([[59.84016393, 97.15983607],\n",
              "       [33.15983607, 53.84016393]])"
            ]
          },
          "metadata": {},
          "execution_count": 136
        }
      ],
      "source": [
        "Expected_Values"
      ]
    },
    {
      "cell_type": "code",
      "execution_count": null,
      "id": "982de65e",
      "metadata": {
        "colab": {
          "base_uri": "https://localhost:8080/",
          "height": 143
        },
        "id": "982de65e",
        "outputId": "0f7f8b1b-d00f-46a3-f208-62237550e899"
      },
      "outputs": [
        {
          "output_type": "execute_result",
          "data": {
            "text/plain": [
              "smoker  Yes  No\n",
              "sex            \n",
              "Male     60  97\n",
              "Female   33  54"
            ],
            "text/html": [
              "\n",
              "\n",
              "  <div id=\"df-1daa1e86-d51d-40e5-82f5-6bbc7aa2debb\">\n",
              "    <div class=\"colab-df-container\">\n",
              "      <div>\n",
              "<style scoped>\n",
              "    .dataframe tbody tr th:only-of-type {\n",
              "        vertical-align: middle;\n",
              "    }\n",
              "\n",
              "    .dataframe tbody tr th {\n",
              "        vertical-align: top;\n",
              "    }\n",
              "\n",
              "    .dataframe thead th {\n",
              "        text-align: right;\n",
              "    }\n",
              "</style>\n",
              "<table border=\"1\" class=\"dataframe\">\n",
              "  <thead>\n",
              "    <tr style=\"text-align: right;\">\n",
              "      <th>smoker</th>\n",
              "      <th>Yes</th>\n",
              "      <th>No</th>\n",
              "    </tr>\n",
              "    <tr>\n",
              "      <th>sex</th>\n",
              "      <th></th>\n",
              "      <th></th>\n",
              "    </tr>\n",
              "  </thead>\n",
              "  <tbody>\n",
              "    <tr>\n",
              "      <th>Male</th>\n",
              "      <td>60</td>\n",
              "      <td>97</td>\n",
              "    </tr>\n",
              "    <tr>\n",
              "      <th>Female</th>\n",
              "      <td>33</td>\n",
              "      <td>54</td>\n",
              "    </tr>\n",
              "  </tbody>\n",
              "</table>\n",
              "</div>\n",
              "      <button class=\"colab-df-convert\" onclick=\"convertToInteractive('df-1daa1e86-d51d-40e5-82f5-6bbc7aa2debb')\"\n",
              "              title=\"Convert this dataframe to an interactive table.\"\n",
              "              style=\"display:none;\">\n",
              "\n",
              "  <svg xmlns=\"http://www.w3.org/2000/svg\" height=\"24px\"viewBox=\"0 0 24 24\"\n",
              "       width=\"24px\">\n",
              "    <path d=\"M0 0h24v24H0V0z\" fill=\"none\"/>\n",
              "    <path d=\"M18.56 5.44l.94 2.06.94-2.06 2.06-.94-2.06-.94-.94-2.06-.94 2.06-2.06.94zm-11 1L8.5 8.5l.94-2.06 2.06-.94-2.06-.94L8.5 2.5l-.94 2.06-2.06.94zm10 10l.94 2.06.94-2.06 2.06-.94-2.06-.94-.94-2.06-.94 2.06-2.06.94z\"/><path d=\"M17.41 7.96l-1.37-1.37c-.4-.4-.92-.59-1.43-.59-.52 0-1.04.2-1.43.59L10.3 9.45l-7.72 7.72c-.78.78-.78 2.05 0 2.83L4 21.41c.39.39.9.59 1.41.59.51 0 1.02-.2 1.41-.59l7.78-7.78 2.81-2.81c.8-.78.8-2.07 0-2.86zM5.41 20L4 18.59l7.72-7.72 1.47 1.35L5.41 20z\"/>\n",
              "  </svg>\n",
              "      </button>\n",
              "\n",
              "\n",
              "\n",
              "    <div id=\"df-129fb5c9-fe29-412c-92d1-402cc9413dc4\">\n",
              "      <button class=\"colab-df-quickchart\" onclick=\"quickchart('df-129fb5c9-fe29-412c-92d1-402cc9413dc4')\"\n",
              "              title=\"Suggest charts.\"\n",
              "              style=\"display:none;\">\n",
              "\n",
              "<svg xmlns=\"http://www.w3.org/2000/svg\" height=\"24px\"viewBox=\"0 0 24 24\"\n",
              "     width=\"24px\">\n",
              "    <g>\n",
              "        <path d=\"M19 3H5c-1.1 0-2 .9-2 2v14c0 1.1.9 2 2 2h14c1.1 0 2-.9 2-2V5c0-1.1-.9-2-2-2zM9 17H7v-7h2v7zm4 0h-2V7h2v10zm4 0h-2v-4h2v4z\"/>\n",
              "    </g>\n",
              "</svg>\n",
              "      </button>\n",
              "    </div>\n",
              "\n",
              "<style>\n",
              "  .colab-df-quickchart {\n",
              "    background-color: #E8F0FE;\n",
              "    border: none;\n",
              "    border-radius: 50%;\n",
              "    cursor: pointer;\n",
              "    display: none;\n",
              "    fill: #1967D2;\n",
              "    height: 32px;\n",
              "    padding: 0 0 0 0;\n",
              "    width: 32px;\n",
              "  }\n",
              "\n",
              "  .colab-df-quickchart:hover {\n",
              "    background-color: #E2EBFA;\n",
              "    box-shadow: 0px 1px 2px rgba(60, 64, 67, 0.3), 0px 1px 3px 1px rgba(60, 64, 67, 0.15);\n",
              "    fill: #174EA6;\n",
              "  }\n",
              "\n",
              "  [theme=dark] .colab-df-quickchart {\n",
              "    background-color: #3B4455;\n",
              "    fill: #D2E3FC;\n",
              "  }\n",
              "\n",
              "  [theme=dark] .colab-df-quickchart:hover {\n",
              "    background-color: #434B5C;\n",
              "    box-shadow: 0px 1px 3px 1px rgba(0, 0, 0, 0.15);\n",
              "    filter: drop-shadow(0px 1px 2px rgba(0, 0, 0, 0.3));\n",
              "    fill: #FFFFFF;\n",
              "  }\n",
              "</style>\n",
              "\n",
              "    <script>\n",
              "      async function quickchart(key) {\n",
              "        const containerElement = document.querySelector('#' + key);\n",
              "        const charts = await google.colab.kernel.invokeFunction(\n",
              "            'suggestCharts', [key], {});\n",
              "      }\n",
              "    </script>\n",
              "\n",
              "      <script>\n",
              "\n",
              "function displayQuickchartButton(domScope) {\n",
              "  let quickchartButtonEl =\n",
              "    domScope.querySelector('#df-129fb5c9-fe29-412c-92d1-402cc9413dc4 button.colab-df-quickchart');\n",
              "  quickchartButtonEl.style.display =\n",
              "    google.colab.kernel.accessAllowed ? 'block' : 'none';\n",
              "}\n",
              "\n",
              "        displayQuickchartButton(document);\n",
              "      </script>\n",
              "      <style>\n",
              "    .colab-df-container {\n",
              "      display:flex;\n",
              "      flex-wrap:wrap;\n",
              "      gap: 12px;\n",
              "    }\n",
              "\n",
              "    .colab-df-convert {\n",
              "      background-color: #E8F0FE;\n",
              "      border: none;\n",
              "      border-radius: 50%;\n",
              "      cursor: pointer;\n",
              "      display: none;\n",
              "      fill: #1967D2;\n",
              "      height: 32px;\n",
              "      padding: 0 0 0 0;\n",
              "      width: 32px;\n",
              "    }\n",
              "\n",
              "    .colab-df-convert:hover {\n",
              "      background-color: #E2EBFA;\n",
              "      box-shadow: 0px 1px 2px rgba(60, 64, 67, 0.3), 0px 1px 3px 1px rgba(60, 64, 67, 0.15);\n",
              "      fill: #174EA6;\n",
              "    }\n",
              "\n",
              "    [theme=dark] .colab-df-convert {\n",
              "      background-color: #3B4455;\n",
              "      fill: #D2E3FC;\n",
              "    }\n",
              "\n",
              "    [theme=dark] .colab-df-convert:hover {\n",
              "      background-color: #434B5C;\n",
              "      box-shadow: 0px 1px 3px 1px rgba(0, 0, 0, 0.15);\n",
              "      filter: drop-shadow(0px 1px 2px rgba(0, 0, 0, 0.3));\n",
              "      fill: #FFFFFF;\n",
              "    }\n",
              "  </style>\n",
              "\n",
              "      <script>\n",
              "        const buttonEl =\n",
              "          document.querySelector('#df-1daa1e86-d51d-40e5-82f5-6bbc7aa2debb button.colab-df-convert');\n",
              "        buttonEl.style.display =\n",
              "          google.colab.kernel.accessAllowed ? 'block' : 'none';\n",
              "\n",
              "        async function convertToInteractive(key) {\n",
              "          const element = document.querySelector('#df-1daa1e86-d51d-40e5-82f5-6bbc7aa2debb');\n",
              "          const dataTable =\n",
              "            await google.colab.kernel.invokeFunction('convertToInteractive',\n",
              "                                                     [key], {});\n",
              "          if (!dataTable) return;\n",
              "\n",
              "          const docLinkHtml = 'Like what you see? Visit the ' +\n",
              "            '<a target=\"_blank\" href=https://colab.research.google.com/notebooks/data_table.ipynb>data table notebook</a>'\n",
              "            + ' to learn more about interactive tables.';\n",
              "          element.innerHTML = '';\n",
              "          dataTable['output_type'] = 'display_data';\n",
              "          await google.colab.output.renderOutput(dataTable, element);\n",
              "          const docLink = document.createElement('div');\n",
              "          docLink.innerHTML = docLinkHtml;\n",
              "          element.appendChild(docLink);\n",
              "        }\n",
              "      </script>\n",
              "    </div>\n",
              "  </div>\n"
            ]
          },
          "metadata": {},
          "execution_count": 137
        }
      ],
      "source": [
        "dataset_table"
      ]
    },
    {
      "cell_type": "code",
      "execution_count": null,
      "id": "c7f3d956",
      "metadata": {
        "id": "c7f3d956"
      },
      "outputs": [],
      "source": [
        "no_of_rows=dataset_table.iloc[0:2,0]"
      ]
    },
    {
      "cell_type": "code",
      "execution_count": null,
      "id": "157a68aa",
      "metadata": {
        "colab": {
          "base_uri": "https://localhost:8080/"
        },
        "id": "157a68aa",
        "outputId": "2a4f328f-464e-4276-d9bf-d7ecb0c0d7ba"
      },
      "outputs": [
        {
          "output_type": "execute_result",
          "data": {
            "text/plain": [
              "2"
            ]
          },
          "metadata": {},
          "execution_count": 139
        }
      ],
      "source": [
        "len(no_of_rows)"
      ]
    },
    {
      "cell_type": "code",
      "execution_count": null,
      "id": "ffbec071",
      "metadata": {
        "id": "ffbec071"
      },
      "outputs": [],
      "source": [
        "no_of_columns=dataset_table.iloc[0,0:2]"
      ]
    },
    {
      "cell_type": "code",
      "execution_count": null,
      "id": "98aeec30",
      "metadata": {
        "colab": {
          "base_uri": "https://localhost:8080/"
        },
        "id": "98aeec30",
        "outputId": "e08a3e2b-542b-448a-f5fd-387edcfa66ae"
      },
      "outputs": [
        {
          "output_type": "execute_result",
          "data": {
            "text/plain": [
              "2"
            ]
          },
          "metadata": {},
          "execution_count": 141
        }
      ],
      "source": [
        "len(no_of_columns)"
      ]
    },
    {
      "cell_type": "code",
      "execution_count": null,
      "id": "828a44c1",
      "metadata": {
        "id": "828a44c1"
      },
      "outputs": [],
      "source": [
        "dof=(len(no_of_columns)-1)*(len(no_of_rows)-1)"
      ]
    },
    {
      "cell_type": "code",
      "execution_count": null,
      "id": "4c3259a5",
      "metadata": {
        "colab": {
          "base_uri": "https://localhost:8080/"
        },
        "id": "4c3259a5",
        "outputId": "bdc8072c-3b4d-47a8-e5af-e1308c95d31a"
      },
      "outputs": [
        {
          "output_type": "execute_result",
          "data": {
            "text/plain": [
              "1"
            ]
          },
          "metadata": {},
          "execution_count": 143
        }
      ],
      "source": [
        "dof"
      ]
    },
    {
      "cell_type": "code",
      "execution_count": null,
      "id": "b01e0730",
      "metadata": {
        "colab": {
          "base_uri": "https://localhost:8080/"
        },
        "id": "b01e0730",
        "outputId": "bc94ec16-0110-41b3-baa2-af65361dffc1"
      },
      "outputs": [
        {
          "output_type": "stream",
          "name": "stdout",
          "text": [
            "[60 97] [59.84016393 97.15983607]\n",
            "[33 54] [33.15983607 53.84016393]\n"
          ]
        }
      ],
      "source": [
        "for o,e in zip(Observed_Values,Expected_Values):\n",
        "    print(o,e)"
      ]
    },
    {
      "cell_type": "code",
      "execution_count": null,
      "id": "0daf6f7e",
      "metadata": {
        "id": "0daf6f7e"
      },
      "outputs": [],
      "source": [
        "from scipy.stats import chi2\n",
        "chisqure_test=sum([(o-e)**2./e for o,e in zip(Observed_Values,Expected_Values)])"
      ]
    },
    {
      "cell_type": "code",
      "execution_count": null,
      "id": "bbbfefaf",
      "metadata": {
        "colab": {
          "base_uri": "https://localhost:8080/"
        },
        "id": "bbbfefaf",
        "outputId": "b3bc7380-171a-4c65-ecf2-a7bb602e0b02"
      },
      "outputs": [
        {
          "output_type": "execute_result",
          "data": {
            "text/plain": [
              "array([0.00119737, 0.00073745])"
            ]
          },
          "metadata": {},
          "execution_count": 146
        }
      ],
      "source": [
        "chisqure_test"
      ]
    },
    {
      "cell_type": "code",
      "execution_count": null,
      "id": "3341e50d",
      "metadata": {
        "id": "3341e50d"
      },
      "outputs": [],
      "source": [
        "chi_square_statistic=chisqure_test[0]+chisqure_test[1]"
      ]
    },
    {
      "cell_type": "code",
      "execution_count": null,
      "id": "651a0021",
      "metadata": {
        "id": "651a0021"
      },
      "outputs": [],
      "source": [
        "alpha=0.05"
      ]
    },
    {
      "cell_type": "code",
      "execution_count": null,
      "id": "73040659",
      "metadata": {
        "colab": {
          "base_uri": "https://localhost:8080/"
        },
        "id": "73040659",
        "outputId": "107f3de5-4434-4604-dd3f-185c20c7a9ba"
      },
      "outputs": [
        {
          "output_type": "execute_result",
          "data": {
            "text/plain": [
              "1"
            ]
          },
          "metadata": {},
          "execution_count": 149
        }
      ],
      "source": [
        "dof"
      ]
    },
    {
      "cell_type": "code",
      "execution_count": null,
      "id": "7cc242e9",
      "metadata": {
        "id": "7cc242e9"
      },
      "outputs": [],
      "source": [
        "from scipy.stats import chi2\n",
        "critical_value=chi2.ppf(1-alpha,df=dof)"
      ]
    },
    {
      "cell_type": "code",
      "execution_count": null,
      "id": "d5e110e0",
      "metadata": {
        "colab": {
          "base_uri": "https://localhost:8080/"
        },
        "id": "d5e110e0",
        "outputId": "6de577bb-8ca4-4879-fbad-8e8fbc172070"
      },
      "outputs": [
        {
          "output_type": "stream",
          "name": "stdout",
          "text": [
            "Retain H0,There is no relationship between 2 categorical variables\n"
          ]
        }
      ],
      "source": [
        "if chi_square_statistic>=critical_value:\n",
        "    print(\"Reject H0,There is a relationship between 2 categorical variables\")\n",
        "else:\n",
        "    print(\"Retain H0,There is no relationship between 2 categorical variables\")"
      ]
    },
    {
      "cell_type": "code",
      "execution_count": null,
      "id": "4e6893c5",
      "metadata": {
        "id": "4e6893c5"
      },
      "outputs": [],
      "source": [
        "#p-value\n",
        "p_value=1-chi2.cdf(x=chi_square_statistic,df=dof)"
      ]
    },
    {
      "cell_type": "code",
      "execution_count": null,
      "id": "71316eb1",
      "metadata": {
        "colab": {
          "base_uri": "https://localhost:8080/"
        },
        "id": "71316eb1",
        "outputId": "e7a306d2-5bdb-4503-99c9-a6b3961647a3"
      },
      "outputs": [
        {
          "output_type": "stream",
          "name": "stdout",
          "text": [
            "Retain H0,There is no relationship between 2 categorical variables\n"
          ]
        }
      ],
      "source": [
        "if p_value<=alpha:\n",
        "    print(\"Reject H0,There is a relationship between 2 categorical variables\")\n",
        "else:\n",
        "    print(\"Retain H0,There is no relationship between 2 categorical variables\")"
      ]
    }
  ],
  "metadata": {
    "kernelspec": {
      "display_name": "Python 3 (ipykernel)",
      "language": "python",
      "name": "python3"
    },
    "language_info": {
      "codemirror_mode": {
        "name": "ipython",
        "version": 3
      },
      "file_extension": ".py",
      "mimetype": "text/x-python",
      "name": "python",
      "nbconvert_exporter": "python",
      "pygments_lexer": "ipython3",
      "version": "3.9.7"
    },
    "colab": {
      "provenance": []
    }
  },
  "nbformat": 4,
  "nbformat_minor": 5
}